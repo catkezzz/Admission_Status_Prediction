{
 "cells": [
  {
   "cell_type": "markdown",
   "metadata": {},
   "source": [
    "## Perkenalan"
   ]
  },
  {
   "cell_type": "markdown",
   "metadata": {},
   "source": [
    "***\n",
    "Milestone 2\n",
    "\n",
    "Nama  : Catherine Kezia Wijaya\n",
    "Batch : RMT-037\n",
    "\n",
    "Notebook ini adalah file untuk menguji coba performa model sudah dibuat di notebook project utama dengan data inferens.\n",
    "***"
   ]
  },
  {
   "cell_type": "markdown",
   "metadata": {},
   "source": [
    "## Import Library"
   ]
  },
  {
   "cell_type": "code",
   "execution_count": 1,
   "metadata": {},
   "outputs": [],
   "source": [
    "import pickle\n",
    "import json\n",
    "import pandas as pd\n",
    "import numpy as np"
   ]
  },
  {
   "cell_type": "markdown",
   "metadata": {},
   "source": [
    "## Load Model"
   ]
  },
  {
   "cell_type": "code",
   "execution_count": 2,
   "metadata": {},
   "outputs": [],
   "source": [
    "with open('best_lr_model_smote.pkl', 'rb') as file_1:\n",
    "  model = pickle.load(file_1)"
   ]
  },
  {
   "cell_type": "markdown",
   "metadata": {},
   "source": [
    "## Membuat df Dari Data Baru"
   ]
  },
  {
   "cell_type": "code",
   "execution_count": 3,
   "metadata": {},
   "outputs": [
    {
     "data": {
      "text/html": [
       "<div>\n",
       "<style scoped>\n",
       "    .dataframe tbody tr th:only-of-type {\n",
       "        vertical-align: middle;\n",
       "    }\n",
       "\n",
       "    .dataframe tbody tr th {\n",
       "        vertical-align: top;\n",
       "    }\n",
       "\n",
       "    .dataframe thead th {\n",
       "        text-align: right;\n",
       "    }\n",
       "</style>\n",
       "<table border=\"1\" class=\"dataframe\">\n",
       "  <thead>\n",
       "    <tr style=\"text-align: right;\">\n",
       "      <th></th>\n",
       "      <th>gender</th>\n",
       "      <th>international</th>\n",
       "      <th>gpa</th>\n",
       "      <th>major</th>\n",
       "      <th>race</th>\n",
       "      <th>gmat</th>\n",
       "      <th>work_exp</th>\n",
       "      <th>work_industry\\t</th>\n",
       "    </tr>\n",
       "  </thead>\n",
       "  <tbody>\n",
       "    <tr>\n",
       "      <th>0</th>\n",
       "      <td>Female</td>\n",
       "      <td>False</td>\n",
       "      <td>3.45</td>\n",
       "      <td>Business</td>\n",
       "      <td>Black</td>\n",
       "      <td>620.0</td>\n",
       "      <td>4.0</td>\n",
       "      <td>Financial Services</td>\n",
       "    </tr>\n",
       "  </tbody>\n",
       "</table>\n",
       "</div>"
      ],
      "text/plain": [
       "   gender  international   gpa     major   race   gmat  work_exp  \\\n",
       "0  Female          False  3.45  Business  Black  620.0       4.0   \n",
       "\n",
       "      work_industry\\t  \n",
       "0  Financial Services  "
      ]
     },
     "execution_count": 3,
     "metadata": {},
     "output_type": "execute_result"
    }
   ],
   "source": [
    "data_inf ={\n",
    "    'gender': 'Female', \n",
    "    'international': False, \n",
    "    'gpa': 3.45, \n",
    "    'major': 'Business',\n",
    "    'race': 'Black',\n",
    "    'gmat': 620.0,\n",
    "    'work_exp': 4.0,\n",
    "    'work_industry\t': 'Financial Services'\n",
    "}\n",
    "\n",
    "data_inf = pd.DataFrame([data_inf])\n",
    "data_inf"
   ]
  },
  {
   "cell_type": "markdown",
   "metadata": {},
   "source": [
    "## Prediksi Model"
   ]
  },
  {
   "cell_type": "code",
   "execution_count": 4,
   "metadata": {},
   "outputs": [],
   "source": [
    "def predict(data):\n",
    "    print('Hasil Prediksi: ')\n",
    "    y_pred_inf = model.predict(data_inf)\n",
    "\n",
    "    if y_pred_inf == 1:\n",
    "        return 'Deny or Waitlist'\n",
    "    else:\n",
    "        return 'Admit'"
   ]
  },
  {
   "cell_type": "code",
   "execution_count": 5,
   "metadata": {},
   "outputs": [
    {
     "name": "stdout",
     "output_type": "stream",
     "text": [
      "Hasil Prediksi: \n"
     ]
    },
    {
     "data": {
      "text/plain": [
       "'Deny or Waitlist'"
      ]
     },
     "execution_count": 5,
     "metadata": {},
     "output_type": "execute_result"
    }
   ],
   "source": [
    "predict(data_inf)"
   ]
  },
  {
   "cell_type": "markdown",
   "metadata": {},
   "source": [
    "Model memprediksi index ke-0 dalam df = potential buyer\n",
    "\n",
    "Model memprediksi index ke-1 dalam df = potential buyer"
   ]
  }
 ],
 "metadata": {
  "kernelspec": {
   "display_name": "base",
   "language": "python",
   "name": "python3"
  },
  "language_info": {
   "codemirror_mode": {
    "name": "ipython",
    "version": 3
   },
   "file_extension": ".py",
   "mimetype": "text/x-python",
   "name": "python",
   "nbconvert_exporter": "python",
   "pygments_lexer": "ipython3",
   "version": "3.12.4"
  }
 },
 "nbformat": 4,
 "nbformat_minor": 2
}
