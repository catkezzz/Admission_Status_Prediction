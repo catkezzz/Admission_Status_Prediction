{
 "cells": [
  {
   "cell_type": "markdown",
   "metadata": {},
   "source": [
    "# **I. Perkenalan**\n",
    "\n",
    "***\n",
    "Milestone 2\n",
    "\n",
    "Nama  : Catherine Kezia Wijaya\n",
    "Batch : RMT-037\n",
    "\n",
    "Notebook ini adalah file utama dari project pembuatan machine learning untuk memprediksi status admisi calon mahasiswa. Notebook berisi perkenalan data, analisis data, pembuatan dan testing model\n",
    "\n",
    "URL Dataset: https://www.kaggle.com/datasets/taweilo/mba-admission-dataset\n",
    "***"
   ]
  },
  {
   "cell_type": "markdown",
   "metadata": {},
   "source": [
    "## Pendahuluan\n",
    "\n",
    "### Gambaran Data\n",
    "Dataset ini berisi data sintesis yang dibuat berdasarkan statistik dari calon mahasiswa Wharton Class of 2025. Berikut adalah atribut dari data:\n",
    "- **application_id**: ID unik calon\n",
    "- **gender**: Jenis kelamin calon mahasiswa (Male, Female)\n",
    "- **international**: Status calon sebagai mahasiswa internasional/international student (TRUE/FALSE)\n",
    "- **gpa**: Grade Point Average (GPA) calon (dalam skala 4.0)\n",
    "- **major**: Jurusan sarjana (Business, STEM, Humanities)\n",
    "- **race**: Latar belakang ras pelamar (e.g., White, Black, Asian, Hispanic, Other / null: international student)\n",
    "- **gmat**: Skor GMA (dalam 800 poin)\n",
    "- **work_exp**: Jumlah tahun pengalaman kerja(Tahun)\n",
    "- **work_industry**: Industri tempat bekerja sebelumnya (e.g., Consulting, Finance, Technology, etc.)\n",
    "- **admission**: Status penerimaan (Admit, Waitlist, Null: Deny)\n",
    "\n",
    "Data ini sintetis,  sehingga tidak mencerminkan data sebenarnya, tetapi mempunyai pola umum yang ada pada data asli dalam hal distribusi dan hubungan antar variabel.\n",
    "\n",
    "### Objective\n",
    "Tujuan utama projek ini adalah membuat model yang bisa memprediksi status admission antara Admit, Deny atau Waitlist, dari calon mahasiswa berdasarkan faktor - faktor pada data. Model ini diharapkan bisa membantu:\n",
    "- **Calon mahasiswa**: Memberikan pemahaman tentang bagaimana atribut - atribut yang ada (GPA, skor GMAT, pengalaman kerja, dll.)bisa memengaruhi keputusan admission, sehingga di masa depan bisa memahami faktor-faktor apa saja yang bisa meningkatkan peluang mereka diterima.\n",
    "- **Tim Admission**: Memahami hubungan antara atribut/fitur dan pengaruhnya terhadap kemungkinan mendapat status Admit atau Waiting List, sehingga bisa membantu dalam menyempurnakan strategi perekrutan.\n",
    "- **Data Scientist/Analyst**: Penggunaan data sintesis dapat menjadi latihan pembuatan model machine learning yang baik untuk tugas-tugas sejenisnya di dunia nyata, seperti dalam pendidikan, HR, atau yang lainnya.\n",
    "\n",
    "Algoritma model yang dijadikan pertimbangan adalah antara Decision Tree, Logistic Regression, Random Forest, K-Nearest Neighbors, XGBoost Classifier, Gaussian Naive Bayes, dan Support Vector Classificatioin. Performa model dinilai dengan metric Recall, dan nilai evaluasi AUC-ROC"
   ]
  },
  {
   "cell_type": "markdown",
   "metadata": {},
   "source": [
    "# **II. Import Libraries**"
   ]
  },
  {
   "cell_type": "code",
   "execution_count": 1,
   "metadata": {},
   "outputs": [],
   "source": [
    "import pandas as pd\n",
    "import seaborn as sns\n",
    "import matplotlib.pyplot as plt\n",
    "import numpy as np\n",
    "\n",
    "from scipy.stats import f_oneway, chi2_contingency\n",
    "\n",
    "from sklearn.model_selection import train_test_split, GridSearchCV\n",
    "\n",
    "from feature_engine.outliers import Winsorizer\n",
    "\n",
    "from sklearn.compose import ColumnTransformer\n",
    "from sklearn.preprocessing import StandardScaler, OneHotEncoder, LabelEncoder\n",
    "\n",
    "from sklearn.linear_model import LogisticRegression\n",
    "from sklearn.tree import DecisionTreeClassifier\n",
    "from sklearn.ensemble import RandomForestClassifier\n",
    "from sklearn.neighbors import KNeighborsClassifier\n",
    "from xgboost import XGBClassifier\n",
    "from sklearn.naive_bayes import GaussianNB\n",
    "from sklearn.svm import SVC\n",
    "\n",
    "from sklearn.pipeline import Pipeline\n",
    "from sklearn.impute import SimpleImputer\n",
    "\n",
    "from imblearn.over_sampling import SMOTENC\n",
    "from imblearn.pipeline import Pipeline as imPipeline\n",
    "\n",
    "from sklearn.model_selection import StratifiedKFold, cross_val_score\n",
    "from sklearn.metrics import classification_report, ConfusionMatrixDisplay, roc_auc_score, recall_score\n",
    "\n",
    "from phik.report import plot_correlation_matrix\n",
    "\n",
    "import pickle"
   ]
  },
  {
   "cell_type": "markdown",
   "metadata": {},
   "source": [
    "# **III. Data Loading**"
   ]
  },
  {
   "cell_type": "code",
   "execution_count": 2,
   "metadata": {},
   "outputs": [
    {
     "data": {
      "text/html": [
       "<div>\n",
       "<style scoped>\n",
       "    .dataframe tbody tr th:only-of-type {\n",
       "        vertical-align: middle;\n",
       "    }\n",
       "\n",
       "    .dataframe tbody tr th {\n",
       "        vertical-align: top;\n",
       "    }\n",
       "\n",
       "    .dataframe thead th {\n",
       "        text-align: right;\n",
       "    }\n",
       "</style>\n",
       "<table border=\"1\" class=\"dataframe\">\n",
       "  <thead>\n",
       "    <tr style=\"text-align: right;\">\n",
       "      <th></th>\n",
       "      <th>application_id</th>\n",
       "      <th>gender</th>\n",
       "      <th>international</th>\n",
       "      <th>gpa</th>\n",
       "      <th>major</th>\n",
       "      <th>race</th>\n",
       "      <th>gmat</th>\n",
       "      <th>work_exp</th>\n",
       "      <th>work_industry</th>\n",
       "      <th>admission</th>\n",
       "    </tr>\n",
       "  </thead>\n",
       "  <tbody>\n",
       "    <tr>\n",
       "      <th>0</th>\n",
       "      <td>1</td>\n",
       "      <td>Female</td>\n",
       "      <td>False</td>\n",
       "      <td>3.30</td>\n",
       "      <td>Business</td>\n",
       "      <td>Asian</td>\n",
       "      <td>620.0</td>\n",
       "      <td>3.0</td>\n",
       "      <td>Financial Services</td>\n",
       "      <td>Admit</td>\n",
       "    </tr>\n",
       "    <tr>\n",
       "      <th>1</th>\n",
       "      <td>2</td>\n",
       "      <td>Male</td>\n",
       "      <td>False</td>\n",
       "      <td>3.28</td>\n",
       "      <td>Humanities</td>\n",
       "      <td>Black</td>\n",
       "      <td>680.0</td>\n",
       "      <td>5.0</td>\n",
       "      <td>Investment Management</td>\n",
       "      <td>NaN</td>\n",
       "    </tr>\n",
       "    <tr>\n",
       "      <th>2</th>\n",
       "      <td>3</td>\n",
       "      <td>Female</td>\n",
       "      <td>True</td>\n",
       "      <td>3.30</td>\n",
       "      <td>Business</td>\n",
       "      <td>NaN</td>\n",
       "      <td>710.0</td>\n",
       "      <td>5.0</td>\n",
       "      <td>Technology</td>\n",
       "      <td>Admit</td>\n",
       "    </tr>\n",
       "    <tr>\n",
       "      <th>3</th>\n",
       "      <td>4</td>\n",
       "      <td>Male</td>\n",
       "      <td>False</td>\n",
       "      <td>3.47</td>\n",
       "      <td>STEM</td>\n",
       "      <td>Black</td>\n",
       "      <td>690.0</td>\n",
       "      <td>6.0</td>\n",
       "      <td>Technology</td>\n",
       "      <td>NaN</td>\n",
       "    </tr>\n",
       "    <tr>\n",
       "      <th>4</th>\n",
       "      <td>5</td>\n",
       "      <td>Male</td>\n",
       "      <td>False</td>\n",
       "      <td>3.35</td>\n",
       "      <td>STEM</td>\n",
       "      <td>Hispanic</td>\n",
       "      <td>590.0</td>\n",
       "      <td>5.0</td>\n",
       "      <td>Consulting</td>\n",
       "      <td>NaN</td>\n",
       "    </tr>\n",
       "    <tr>\n",
       "      <th>5</th>\n",
       "      <td>6</td>\n",
       "      <td>Male</td>\n",
       "      <td>False</td>\n",
       "      <td>3.18</td>\n",
       "      <td>Business</td>\n",
       "      <td>White</td>\n",
       "      <td>610.0</td>\n",
       "      <td>6.0</td>\n",
       "      <td>Consulting</td>\n",
       "      <td>NaN</td>\n",
       "    </tr>\n",
       "    <tr>\n",
       "      <th>6</th>\n",
       "      <td>7</td>\n",
       "      <td>Female</td>\n",
       "      <td>False</td>\n",
       "      <td>2.93</td>\n",
       "      <td>STEM</td>\n",
       "      <td>Other</td>\n",
       "      <td>590.0</td>\n",
       "      <td>3.0</td>\n",
       "      <td>Technology</td>\n",
       "      <td>Admit</td>\n",
       "    </tr>\n",
       "    <tr>\n",
       "      <th>7</th>\n",
       "      <td>8</td>\n",
       "      <td>Male</td>\n",
       "      <td>True</td>\n",
       "      <td>3.02</td>\n",
       "      <td>Business</td>\n",
       "      <td>NaN</td>\n",
       "      <td>630.0</td>\n",
       "      <td>6.0</td>\n",
       "      <td>Financial Services</td>\n",
       "      <td>NaN</td>\n",
       "    </tr>\n",
       "    <tr>\n",
       "      <th>8</th>\n",
       "      <td>9</td>\n",
       "      <td>Male</td>\n",
       "      <td>False</td>\n",
       "      <td>3.24</td>\n",
       "      <td>Business</td>\n",
       "      <td>White</td>\n",
       "      <td>590.0</td>\n",
       "      <td>2.0</td>\n",
       "      <td>Nonprofit/Gov</td>\n",
       "      <td>NaN</td>\n",
       "    </tr>\n",
       "    <tr>\n",
       "      <th>9</th>\n",
       "      <td>10</td>\n",
       "      <td>Male</td>\n",
       "      <td>False</td>\n",
       "      <td>3.27</td>\n",
       "      <td>Humanities</td>\n",
       "      <td>Asian</td>\n",
       "      <td>690.0</td>\n",
       "      <td>3.0</td>\n",
       "      <td>Consulting</td>\n",
       "      <td>NaN</td>\n",
       "    </tr>\n",
       "  </tbody>\n",
       "</table>\n",
       "</div>"
      ],
      "text/plain": [
       "   application_id  gender  international   gpa       major      race   gmat  \\\n",
       "0               1  Female          False  3.30    Business     Asian  620.0   \n",
       "1               2    Male          False  3.28  Humanities     Black  680.0   \n",
       "2               3  Female           True  3.30    Business       NaN  710.0   \n",
       "3               4    Male          False  3.47        STEM     Black  690.0   \n",
       "4               5    Male          False  3.35        STEM  Hispanic  590.0   \n",
       "5               6    Male          False  3.18    Business     White  610.0   \n",
       "6               7  Female          False  2.93        STEM     Other  590.0   \n",
       "7               8    Male           True  3.02    Business       NaN  630.0   \n",
       "8               9    Male          False  3.24    Business     White  590.0   \n",
       "9              10    Male          False  3.27  Humanities     Asian  690.0   \n",
       "\n",
       "   work_exp          work_industry admission  \n",
       "0       3.0     Financial Services     Admit  \n",
       "1       5.0  Investment Management       NaN  \n",
       "2       5.0             Technology     Admit  \n",
       "3       6.0             Technology       NaN  \n",
       "4       5.0             Consulting       NaN  \n",
       "5       6.0             Consulting       NaN  \n",
       "6       3.0             Technology     Admit  \n",
       "7       6.0     Financial Services       NaN  \n",
       "8       2.0          Nonprofit/Gov       NaN  \n",
       "9       3.0             Consulting       NaN  "
      ]
     },
     "execution_count": 2,
     "metadata": {},
     "output_type": "execute_result"
    }
   ],
   "source": [
    "# loading data MBA dan menampilkan data\n",
    "df_ori = pd.read_csv('MBA.csv')\n",
    "df = df_ori.copy()\n",
    "df.head(10)"
   ]
  },
  {
   "cell_type": "code",
   "execution_count": 3,
   "metadata": {},
   "outputs": [
    {
     "data": {
      "text/html": [
       "<div>\n",
       "<style scoped>\n",
       "    .dataframe tbody tr th:only-of-type {\n",
       "        vertical-align: middle;\n",
       "    }\n",
       "\n",
       "    .dataframe tbody tr th {\n",
       "        vertical-align: top;\n",
       "    }\n",
       "\n",
       "    .dataframe thead th {\n",
       "        text-align: right;\n",
       "    }\n",
       "</style>\n",
       "<table border=\"1\" class=\"dataframe\">\n",
       "  <thead>\n",
       "    <tr style=\"text-align: right;\">\n",
       "      <th></th>\n",
       "      <th>application_id</th>\n",
       "      <th>gender</th>\n",
       "      <th>international</th>\n",
       "      <th>gpa</th>\n",
       "      <th>major</th>\n",
       "      <th>race</th>\n",
       "      <th>gmat</th>\n",
       "      <th>work_exp</th>\n",
       "      <th>work_industry</th>\n",
       "      <th>admission</th>\n",
       "    </tr>\n",
       "  </thead>\n",
       "  <tbody>\n",
       "    <tr>\n",
       "      <th>6184</th>\n",
       "      <td>6185</td>\n",
       "      <td>Male</td>\n",
       "      <td>False</td>\n",
       "      <td>3.33</td>\n",
       "      <td>STEM</td>\n",
       "      <td>White</td>\n",
       "      <td>620.0</td>\n",
       "      <td>5.0</td>\n",
       "      <td>Health Care</td>\n",
       "      <td>NaN</td>\n",
       "    </tr>\n",
       "    <tr>\n",
       "      <th>6185</th>\n",
       "      <td>6186</td>\n",
       "      <td>Male</td>\n",
       "      <td>False</td>\n",
       "      <td>3.19</td>\n",
       "      <td>STEM</td>\n",
       "      <td>Asian</td>\n",
       "      <td>660.0</td>\n",
       "      <td>4.0</td>\n",
       "      <td>Health Care</td>\n",
       "      <td>NaN</td>\n",
       "    </tr>\n",
       "    <tr>\n",
       "      <th>6186</th>\n",
       "      <td>6187</td>\n",
       "      <td>Male</td>\n",
       "      <td>True</td>\n",
       "      <td>3.23</td>\n",
       "      <td>Humanities</td>\n",
       "      <td>NaN</td>\n",
       "      <td>610.0</td>\n",
       "      <td>7.0</td>\n",
       "      <td>Financial Services</td>\n",
       "      <td>NaN</td>\n",
       "    </tr>\n",
       "    <tr>\n",
       "      <th>6187</th>\n",
       "      <td>6188</td>\n",
       "      <td>Male</td>\n",
       "      <td>False</td>\n",
       "      <td>3.03</td>\n",
       "      <td>Humanities</td>\n",
       "      <td>Asian</td>\n",
       "      <td>570.0</td>\n",
       "      <td>6.0</td>\n",
       "      <td>PE/VC</td>\n",
       "      <td>NaN</td>\n",
       "    </tr>\n",
       "    <tr>\n",
       "      <th>6188</th>\n",
       "      <td>6189</td>\n",
       "      <td>Male</td>\n",
       "      <td>False</td>\n",
       "      <td>3.12</td>\n",
       "      <td>STEM</td>\n",
       "      <td>Black</td>\n",
       "      <td>630.0</td>\n",
       "      <td>4.0</td>\n",
       "      <td>Consulting</td>\n",
       "      <td>NaN</td>\n",
       "    </tr>\n",
       "    <tr>\n",
       "      <th>6189</th>\n",
       "      <td>6190</td>\n",
       "      <td>Male</td>\n",
       "      <td>False</td>\n",
       "      <td>3.49</td>\n",
       "      <td>Business</td>\n",
       "      <td>White</td>\n",
       "      <td>640.0</td>\n",
       "      <td>5.0</td>\n",
       "      <td>Other</td>\n",
       "      <td>NaN</td>\n",
       "    </tr>\n",
       "    <tr>\n",
       "      <th>6190</th>\n",
       "      <td>6191</td>\n",
       "      <td>Male</td>\n",
       "      <td>False</td>\n",
       "      <td>3.18</td>\n",
       "      <td>STEM</td>\n",
       "      <td>Black</td>\n",
       "      <td>670.0</td>\n",
       "      <td>4.0</td>\n",
       "      <td>Consulting</td>\n",
       "      <td>NaN</td>\n",
       "    </tr>\n",
       "    <tr>\n",
       "      <th>6191</th>\n",
       "      <td>6192</td>\n",
       "      <td>Female</td>\n",
       "      <td>True</td>\n",
       "      <td>3.22</td>\n",
       "      <td>Business</td>\n",
       "      <td>NaN</td>\n",
       "      <td>680.0</td>\n",
       "      <td>5.0</td>\n",
       "      <td>Health Care</td>\n",
       "      <td>Admit</td>\n",
       "    </tr>\n",
       "    <tr>\n",
       "      <th>6192</th>\n",
       "      <td>6193</td>\n",
       "      <td>Male</td>\n",
       "      <td>True</td>\n",
       "      <td>3.36</td>\n",
       "      <td>Business</td>\n",
       "      <td>NaN</td>\n",
       "      <td>590.0</td>\n",
       "      <td>5.0</td>\n",
       "      <td>Other</td>\n",
       "      <td>NaN</td>\n",
       "    </tr>\n",
       "    <tr>\n",
       "      <th>6193</th>\n",
       "      <td>6194</td>\n",
       "      <td>Male</td>\n",
       "      <td>False</td>\n",
       "      <td>3.23</td>\n",
       "      <td>STEM</td>\n",
       "      <td>Hispanic</td>\n",
       "      <td>650.0</td>\n",
       "      <td>4.0</td>\n",
       "      <td>Consulting</td>\n",
       "      <td>NaN</td>\n",
       "    </tr>\n",
       "  </tbody>\n",
       "</table>\n",
       "</div>"
      ],
      "text/plain": [
       "      application_id  gender  international   gpa       major      race  \\\n",
       "6184            6185    Male          False  3.33        STEM     White   \n",
       "6185            6186    Male          False  3.19        STEM     Asian   \n",
       "6186            6187    Male           True  3.23  Humanities       NaN   \n",
       "6187            6188    Male          False  3.03  Humanities     Asian   \n",
       "6188            6189    Male          False  3.12        STEM     Black   \n",
       "6189            6190    Male          False  3.49    Business     White   \n",
       "6190            6191    Male          False  3.18        STEM     Black   \n",
       "6191            6192  Female           True  3.22    Business       NaN   \n",
       "6192            6193    Male           True  3.36    Business       NaN   \n",
       "6193            6194    Male          False  3.23        STEM  Hispanic   \n",
       "\n",
       "       gmat  work_exp       work_industry admission  \n",
       "6184  620.0       5.0         Health Care       NaN  \n",
       "6185  660.0       4.0         Health Care       NaN  \n",
       "6186  610.0       7.0  Financial Services       NaN  \n",
       "6187  570.0       6.0               PE/VC       NaN  \n",
       "6188  630.0       4.0          Consulting       NaN  \n",
       "6189  640.0       5.0               Other       NaN  \n",
       "6190  670.0       4.0          Consulting       NaN  \n",
       "6191  680.0       5.0         Health Care     Admit  \n",
       "6192  590.0       5.0               Other       NaN  \n",
       "6193  650.0       4.0          Consulting       NaN  "
      ]
     },
     "execution_count": 3,
     "metadata": {},
     "output_type": "execute_result"
    }
   ],
   "source": [
    "df.tail(10)"
   ]
  },
  {
   "cell_type": "code",
   "execution_count": 4,
   "metadata": {},
   "outputs": [
    {
     "name": "stdout",
     "output_type": "stream",
     "text": [
      "<class 'pandas.core.frame.DataFrame'>\n",
      "RangeIndex: 6194 entries, 0 to 6193\n",
      "Data columns (total 10 columns):\n",
      " #   Column          Non-Null Count  Dtype  \n",
      "---  ------          --------------  -----  \n",
      " 0   application_id  6194 non-null   int64  \n",
      " 1   gender          6194 non-null   object \n",
      " 2   international   6194 non-null   bool   \n",
      " 3   gpa             6194 non-null   float64\n",
      " 4   major           6194 non-null   object \n",
      " 5   race            4352 non-null   object \n",
      " 6   gmat            6194 non-null   float64\n",
      " 7   work_exp        6194 non-null   float64\n",
      " 8   work_industry   6194 non-null   object \n",
      " 9   admission       1000 non-null   object \n",
      "dtypes: bool(1), float64(3), int64(1), object(5)\n",
      "memory usage: 441.7+ KB\n"
     ]
    }
   ],
   "source": [
    "# menampilkan rangkuman data\n",
    "df.info()"
   ]
  },
  {
   "cell_type": "markdown",
   "metadata": {},
   "source": [
    "- Terdapat 6194 data dengan jumlah fitur 9\n",
    "- Tipe data untuk setiap kolom sudah benar\n",
    "- Kolom kategorikal semua bertipe data String atau Boolean, sedangkan untuk numerik tipe data Float atau Integer\n",
    "- Ada banyak data yang null"
   ]
  },
  {
   "cell_type": "markdown",
   "metadata": {},
   "source": [
    "`application_id` bersifat redundan karena sudah ada index sendiri dari DataFrame\n",
    "\n",
    "> Drop kolom `application_id`"
   ]
  },
  {
   "cell_type": "code",
   "execution_count": 5,
   "metadata": {},
   "outputs": [],
   "source": [
    "# Menghapus kolom application_id\n",
    "df = df.drop(['application_id'], axis = 1)"
   ]
  },
  {
   "cell_type": "markdown",
   "metadata": {},
   "source": [
    ">Cek apakah ada data duplikasi"
   ]
  },
  {
   "cell_type": "code",
   "execution_count": 6,
   "metadata": {},
   "outputs": [
    {
     "data": {
      "text/plain": [
       "30"
      ]
     },
     "execution_count": 6,
     "metadata": {},
     "output_type": "execute_result"
    }
   ],
   "source": [
    "df.duplicated().sum()"
   ]
  },
  {
   "cell_type": "markdown",
   "metadata": {},
   "source": [
    "Semua data sudah unik"
   ]
  },
  {
   "cell_type": "markdown",
   "metadata": {},
   "source": [
    ">Melihat apa saja fitur pada data"
   ]
  },
  {
   "cell_type": "code",
   "execution_count": 7,
   "metadata": {},
   "outputs": [
    {
     "data": {
      "text/plain": [
       "Index(['gender', 'international', 'gpa', 'major', 'race', 'gmat', 'work_exp',\n",
       "       'work_industry', 'admission'],\n",
       "      dtype='object')"
      ]
     },
     "execution_count": 7,
     "metadata": {},
     "output_type": "execute_result"
    }
   ],
   "source": [
    "# menampilkan nama kolom pada DataFrame\n",
    "df.columns"
   ]
  },
  {
   "cell_type": "markdown",
   "metadata": {},
   "source": [
    ">Melihat unique value pada semua kolom kategorikal"
   ]
  },
  {
   "cell_type": "code",
   "execution_count": 8,
   "metadata": {},
   "outputs": [
    {
     "name": "stdout",
     "output_type": "stream",
     "text": [
      "gender:  ['Female' 'Male']\n",
      "international:  [False  True]\n",
      "major:  ['Business' 'Humanities' 'STEM']\n",
      "race:  ['Asian' 'Black' nan 'Hispanic' 'White' 'Other']\n",
      "work_industry:  ['Financial Services' 'Investment Management' 'Technology' 'Consulting'\n",
      " 'Nonprofit/Gov' 'PE/VC' 'Health Care' 'Investment Banking' 'Other'\n",
      " 'Retail' 'Energy' 'CPG' 'Real Estate' 'Media/Entertainment']\n",
      "admission:  ['Admit' nan 'Waitlist']\n"
     ]
    }
   ],
   "source": [
    "print('gender: ', df['gender'].unique())\n",
    "print('international: ', df['international'].unique())\n",
    "print('major: ', df['major'].unique())\n",
    "print('race: ', df['race'].unique())\n",
    "print('work_industry: ', df['work_industry'].unique())\n",
    "print('admission: ', df['admission'].unique())"
   ]
  },
  {
   "cell_type": "markdown",
   "metadata": {},
   "source": [
    "- Tidak ada whitespace pada data\n",
    "- Data null terdapat pada kolom `race` dan `admission`\n",
    "\n",
    "`admission` seharusnya ada 3 tipe value, yaitu Admit, Waitlist, dan Deny, akan tetapi status admission Deny diisi dengan null pada data. Ingin diperiksa kesimbangan data terhadap target."
   ]
  },
  {
   "cell_type": "code",
   "execution_count": 9,
   "metadata": {},
   "outputs": [
    {
     "name": "stdout",
     "output_type": "stream",
     "text": [
      "Count Deny:  5194\n"
     ]
    },
    {
     "data": {
      "text/plain": [
       "admission\n",
       "Admit       900\n",
       "Waitlist    100\n",
       "Name: count, dtype: int64"
      ]
     },
     "execution_count": 9,
     "metadata": {},
     "output_type": "execute_result"
    }
   ],
   "source": [
    "print('Count Deny: ', df['admission'].isnull().sum())\n",
    "df['admission'].value_counts()"
   ]
  },
  {
   "cell_type": "markdown",
   "metadata": {},
   "source": [
    "Terdapat 5194 calon mahasiswa dengan status admission `Deny`, sedangkan terdapat 900 dengan status `Admit` dan 100 untuk `Waitlist`. Jumlah data `Waitlist` terlalu sedikit untuk dianalisa dan dibuat model prediksi terutama jika dibandingkan dengan label lainnya. Karena itu label `Waitlist` dan `Deny` akan digabung menjadi satu label yaitu `Deny or Waitlist`"
   ]
  },
  {
   "cell_type": "code",
   "execution_count": 10,
   "metadata": {},
   "outputs": [],
   "source": [
    "df['admission'] = df['admission'].str.replace('Waitlist', 'Deny or Waitlist')"
   ]
  },
  {
   "cell_type": "markdown",
   "metadata": {},
   "source": [
    "# **IV. Exploratory Data Analysis (EDA)**\n",
    "\n",
    "Berikut adalah statistik deskriptif, cek distribusi untuk variabel bersifat kontinu, dan cek ratio jumlah data untuk variabel bersifat kategorikal"
   ]
  },
  {
   "cell_type": "markdown",
   "metadata": {},
   "source": [
    "## A. Statistik Deskriptif"
   ]
  },
  {
   "cell_type": "markdown",
   "metadata": {},
   "source": [
    "### Ringkasan statistik deskriptif data"
   ]
  },
  {
   "cell_type": "code",
   "execution_count": 11,
   "metadata": {},
   "outputs": [
    {
     "data": {
      "text/html": [
       "<div>\n",
       "<style scoped>\n",
       "    .dataframe tbody tr th:only-of-type {\n",
       "        vertical-align: middle;\n",
       "    }\n",
       "\n",
       "    .dataframe tbody tr th {\n",
       "        vertical-align: top;\n",
       "    }\n",
       "\n",
       "    .dataframe thead th {\n",
       "        text-align: right;\n",
       "    }\n",
       "</style>\n",
       "<table border=\"1\" class=\"dataframe\">\n",
       "  <thead>\n",
       "    <tr style=\"text-align: right;\">\n",
       "      <th></th>\n",
       "      <th>gpa</th>\n",
       "      <th>gmat</th>\n",
       "      <th>work_exp</th>\n",
       "    </tr>\n",
       "  </thead>\n",
       "  <tbody>\n",
       "    <tr>\n",
       "      <th>count</th>\n",
       "      <td>6194.000000</td>\n",
       "      <td>6194.000000</td>\n",
       "      <td>6194.000000</td>\n",
       "    </tr>\n",
       "    <tr>\n",
       "      <th>mean</th>\n",
       "      <td>3.250714</td>\n",
       "      <td>651.092993</td>\n",
       "      <td>5.016952</td>\n",
       "    </tr>\n",
       "    <tr>\n",
       "      <th>std</th>\n",
       "      <td>0.151541</td>\n",
       "      <td>49.294883</td>\n",
       "      <td>1.032432</td>\n",
       "    </tr>\n",
       "    <tr>\n",
       "      <th>min</th>\n",
       "      <td>2.650000</td>\n",
       "      <td>570.000000</td>\n",
       "      <td>1.000000</td>\n",
       "    </tr>\n",
       "    <tr>\n",
       "      <th>25%</th>\n",
       "      <td>3.150000</td>\n",
       "      <td>610.000000</td>\n",
       "      <td>4.000000</td>\n",
       "    </tr>\n",
       "    <tr>\n",
       "      <th>50%</th>\n",
       "      <td>3.250000</td>\n",
       "      <td>650.000000</td>\n",
       "      <td>5.000000</td>\n",
       "    </tr>\n",
       "    <tr>\n",
       "      <th>75%</th>\n",
       "      <td>3.350000</td>\n",
       "      <td>680.000000</td>\n",
       "      <td>6.000000</td>\n",
       "    </tr>\n",
       "    <tr>\n",
       "      <th>max</th>\n",
       "      <td>3.770000</td>\n",
       "      <td>780.000000</td>\n",
       "      <td>9.000000</td>\n",
       "    </tr>\n",
       "  </tbody>\n",
       "</table>\n",
       "</div>"
      ],
      "text/plain": [
       "               gpa         gmat     work_exp\n",
       "count  6194.000000  6194.000000  6194.000000\n",
       "mean      3.250714   651.092993     5.016952\n",
       "std       0.151541    49.294883     1.032432\n",
       "min       2.650000   570.000000     1.000000\n",
       "25%       3.150000   610.000000     4.000000\n",
       "50%       3.250000   650.000000     5.000000\n",
       "75%       3.350000   680.000000     6.000000\n",
       "max       3.770000   780.000000     9.000000"
      ]
     },
     "execution_count": 11,
     "metadata": {},
     "output_type": "execute_result"
    }
   ],
   "source": [
    "df.describe()"
   ]
  },
  {
   "cell_type": "markdown",
   "metadata": {},
   "source": [
    "- Mayoritas `gpa` calon mahasiswa tinggi, program cukup kompetitif\n",
    "- Skor `gmat` memiliki nilai standar deviasi 49, nilai ini cukup besar. Dapat disimpulkan nilai GMAT calon mahasiswa bervariasi. Dan juga rata - ratanya bernilai `651`, di atas standar global yang berkisar antara 400 - 600 menurut website __[testmasters](https://www.testmasters.net/GmatAbout/Scoring-Scale#:~:text=While%20total%20scaled%20scores%20range,percentile%20rankings%20assigned%20to%20each.)__\n",
    "- Kebanyakan calon mahasiswa memiliki pengalaman kerja antara 4-6 tahun. "
   ]
  },
  {
   "cell_type": "markdown",
   "metadata": {},
   "source": [
    "### Cek distribusi kolom `gpa`, `gmat`, dan `work_exp`"
   ]
  },
  {
   "cell_type": "code",
   "execution_count": 12,
   "metadata": {},
   "outputs": [
    {
     "data": {
      "image/png": "[encoded data removed]",
      "text/plain": [
       "<Figure size 1500x500 with 3 Axes>"
      ]
     },
     "metadata": {},
     "output_type": "display_data"
    }
   ],
   "source": [
    "#Melihat distribusi kolom numerik\n",
    "\n",
    "num_cols = ['gpa', 'gmat', 'work_exp']\n",
    "# buat figure dan axes\n",
    "fig, axes = plt.subplots(nrows=1, ncols=3, figsize=(15, 5))\n",
    "\n",
    "# Flatten the axes array for easy iteration\n",
    "axes = axes.flatten()\n",
    "\n",
    "# Plot histograms with KDE\n",
    "for i, column in enumerate(num_cols):\n",
    "    sns.histplot(data=df, x=column, kde=True, ax=axes[i])\n",
    "    axes[i].set_title(column)\n",
    "\n",
    "# Display plot\n",
    "plt.tight_layout()\n",
    "plt.show()"
   ]
  },
  {
   "cell_type": "markdown",
   "metadata": {},
   "source": [
    "Semua variabel numerik berdistribusi normal, hanya variabel `gmat` sedikit skewed ke kiri. Disimpulkan nilai GPA, GMAT dan tahun pengalaman kerja mendekati nilai rata - ratanya masing - masing"
   ]
  },
  {
   "cell_type": "markdown",
   "metadata": {},
   "source": [
    "### Cek ratio kolom `gender`, `international`, `major`, `race`, `work_industry` dan `admission`"
   ]
  },
  {
   "cell_type": "code",
   "execution_count": 13,
   "metadata": {},
   "outputs": [
    {
     "data": {
      "image/png": "[encoded data removed]",
      "text/plain": [
       "<Figure size 1000x500 with 4 Axes>"
      ]
     },
     "metadata": {},
     "output_type": "display_data"
    }
   ],
   "source": [
    "#Melihat ratio kolom kategorikal\n",
    "\n",
    "pie_cols = ['gender', 'major', 'race', 'admission']\n",
    "# buat figure dan axes\n",
    "fig, axes = plt.subplots(nrows=2, ncols=2, figsize=(10, 5))\n",
    "# Flatten the axes array for easy iteration\n",
    "axes = axes.flatten()\n",
    "\n",
    "for i, column in enumerate(pie_cols):\n",
    "    # Hitung jumlah setiap kategori\n",
    "    category_counts = df[column].value_counts()\n",
    "\n",
    "    # Plot pie chart\n",
    "    axes[i].pie(category_counts, labels=category_counts.index, autopct='%1.1f%%', startangle=140, colors=sns.color_palette(\"Set2\", len(category_counts)))\n",
    "    axes[i].set_title(f'Ratio {column}')\n",
    "    axes[i].axis('equal')  # Menjaga agar pie chart berbentuk lingkaran\n",
    "\n",
    "# Display\n",
    "plt.tight_layout()\n",
    "plt.show()"
   ]
  },
  {
   "cell_type": "markdown",
   "metadata": {},
   "source": [
    "- Calon mahasiswa mayoritas memiliki gender pria, sebanyak 63.7%. Sedangkan untuk wanita hanya sebanyak 36.3% dari seluruh mahasiswa\n",
    "- Ada 3 `major` yang bisa dipilih mahasiswa, yang paling banyak dipilih adalah `Humanities` sebanyak 40%, diikuti dengan `STEM` sebanyak 30%, dan terakhir adalah `Business` sebanyak 29.7% dari seluruh calon mahasiswa. Jumlah calon mahasiswa setiap major cukup dekat dengan satu sama lain, dan bersifat seimbang\n",
    "- Ras calon mahasiswa paling banyak adalah `White` sebanyak 33.5%, diikuti dengan `Asian` sebanyak 26.4% dan terakhir `Black` sebanyak 21% dari seluruh calon mahasiswa\n",
    "- Mayoritas merupakan `Admit` sebanyak 90% dan `Waitlist` hanya 10%, akan tetapi untuk `Deny` masih belum diperhitungkan karena bernilai Null"
   ]
  },
  {
   "cell_type": "markdown",
   "metadata": {},
   "source": [
    "### Top 5 Background industri pengalaman kerja calon mahasiswa"
   ]
  },
  {
   "cell_type": "code",
   "execution_count": 14,
   "metadata": {},
   "outputs": [
    {
     "data": {
      "text/plain": [
       "work_industry\n",
       "Consulting            1619\n",
       "PE/VC                  907\n",
       "Technology             716\n",
       "Nonprofit/Gov          651\n",
       "Investment Banking     580\n",
       "Name: count, dtype: int64"
      ]
     },
     "execution_count": 14,
     "metadata": {},
     "output_type": "execute_result"
    }
   ],
   "source": [
    "df['work_industry'].value_counts().head(5)"
   ]
  },
  {
   "cell_type": "markdown",
   "metadata": {},
   "source": [
    "Paling banyak memiliki pengalaman kerja di Consulting sebanyak 1619 calon mahasiswa, diikuti dengan PE/VC, Technology, Nonprofit/Government, dan terakhir Invesment Banking"
   ]
  },
  {
   "cell_type": "markdown",
   "metadata": {},
   "source": [
    "## B. Statistik Inferensial"
   ]
  },
  {
   "cell_type": "markdown",
   "metadata": {},
   "source": [
    "### 1. Mana yang berpengaruh lebih besar terhadapt status penerimaan? Nilai GPA atau GMAT?\n",
    "\n",
    "#### GPA\n",
    "\n",
    "H0: GPA tidak berpengaruh besar terhadap status penerimaan\n",
    "\n",
    "H1: GPA berpengaruh besar terhadap status penerimaan"
   ]
  },
  {
   "cell_type": "code",
   "execution_count": 15,
   "metadata": {},
   "outputs": [
    {
     "name": "stdout",
     "output_type": "stream",
     "text": [
      "ANOVA GPA: F-stat = nan , p-value = nan\n"
     ]
    },
    {
     "name": "stderr",
     "output_type": "stream",
     "text": [
      "d:\\anaconda3\\Lib\\site-packages\\scipy\\stats\\_stats_py.py:4102: DegenerateDataWarning: at least one input has length 0\n",
      "  if _f_oneway_is_too_small(samples):\n"
     ]
    }
   ],
   "source": [
    "admit_gpa = df[df['admission'] == 'Admit']['gpa']\n",
    "deny_gpa = df[df['admission'].isnull()]['gpa']\n",
    "waitlist_gpa = df[df['admission'] == 'Waitlist']['gpa']\n",
    "\n",
    "f_stat_gpa, p_value_gpa = f_oneway(admit_gpa, waitlist_gpa, deny_gpa)\n",
    "print(\"ANOVA GPA: F-stat =\", f_stat_gpa, \", p-value =\", p_value_gpa)\n"
   ]
  },
  {
   "cell_type": "markdown",
   "metadata": {},
   "source": [
    "- F-stat bernilai 287.416 menunjukkan bahwa ada perbedaan rata-rata GPA yang sangat besar di antara status penerimaan Deny, Admit, dan Waitlist\n",
    "- P-value sangat kecil, bernilai 4.325e-120 menunjukkan bahwa perbedaan rata - rata terjadi karena ada korelasi yang kuat antara nilai GPA dan status penerimaan\n",
    "\n",
    "Berhasil tolak H0, Nilai GPA memiliki pengaruh signifikan terhadap status penerimaan."
   ]
  },
  {
   "cell_type": "markdown",
   "metadata": {},
   "source": [
    "#### GMAT\n",
    "\n",
    "H0: GMAT tidak berpengaruh besar terhadap status penerimaan\n",
    "\n",
    "H1: GMAT kerja berpengaruh besar terhadap status penerimaan"
   ]
  },
  {
   "cell_type": "code",
   "execution_count": 16,
   "metadata": {},
   "outputs": [
    {
     "name": "stdout",
     "output_type": "stream",
     "text": [
      "ANOVA Work Experience: F-stat = nan , p-value = nan\n"
     ]
    }
   ],
   "source": [
    "admit_gmat = df[df['admission'] == 'Admit']['gmat']\n",
    "deny_gmat = df[df['admission'].isnull()]['gmat']\n",
    "waitlist_gmat = df[df['admission'] == 'Waitlist']['gmat']\n",
    "\n",
    "f_stat_gmat, p_value_gmat = f_oneway(admit_gmat, waitlist_gmat, deny_gmat)\n",
    "print(\"ANOVA Work Experience: F-stat =\", f_stat_gmat, \", p-value =\", p_value_gmat)"
   ]
  },
  {
   "cell_type": "markdown",
   "metadata": {},
   "source": [
    "- F-stat bernilai 451.35 menunjukkan bahwa ada perbedaan rata-rata GMAT yang sangat besar di antara kelompok status penerimaan Deny, Admit, dan Waitlist\n",
    "- P-value sangat kecil, bernilai 1.041e-183 menunjukkan bahwa perbedaan rata - rata terjadi karena ada korelasi yang kuat antara nilai GMAT dan status penerimaan\n",
    "\n",
    "Berhasil tolak H0, Nilai GMAT memiliki pengaruh signifikan terhadap status penerimaan."
   ]
  },
  {
   "cell_type": "markdown",
   "metadata": {},
   "source": [
    "- GPA\n",
    "    - F-stat: 287.416\n",
    "    - p-value = 4.325e-120\n",
    "- GMAT\n",
    "    - F-stat: 451.352\n",
    "    - p-value = 1.041e-183\n",
    "\n",
    "Dari analisis ANOVA ini, GMAT terbukti memiliki pengaruh lebih besar terhadap status penerimaan dibandingkan dengan GPA."
   ]
  },
  {
   "cell_type": "markdown",
   "metadata": {},
   "source": [
    "### 2. Apakah pengalaman pekerjaan industri calon mahasiswa mempengaruhi jurusan yang dipilih?\n",
    "\n",
    "H0: Tidak ada hubungan antara `work_industry` dan `major`.\n",
    "\n",
    "H1: Ada hubungan antara `work_industry` dan `major`."
   ]
  },
  {
   "cell_type": "code",
   "execution_count": 17,
   "metadata": {},
   "outputs": [
    {
     "name": "stdout",
     "output_type": "stream",
     "text": [
      "Chi-Square: 21.68781447790691\n",
      "p-value: 0.7056503903537901\n"
     ]
    }
   ],
   "source": [
    "contingency_table = pd.crosstab(df['work_industry'], df['major'])\n",
    "\n",
    "# Uji Chi-Square\n",
    "chi2, p_value, dof, expected = chi2_contingency(contingency_table)\n",
    "print(f\"Chi-Square: {chi2}\")\n",
    "print(f\"p-value: {p_value}\")"
   ]
  },
  {
   "cell_type": "markdown",
   "metadata": {},
   "source": [
    "- Nilai 21.68 pada Chi-Square menunjukkan adanya beberapa perbedaan dalam distribusi `work_industry` terhadap `major`\n",
    "- p-value 0.7056 jauh lebih besar dari 0.05, menunjukkan bahwa gagal tolak h0, tidak ada hubungan yang signifikan antara `work_exp` calon mahasiswa dengan `major` yang mereka pilih."
   ]
  },
  {
   "cell_type": "markdown",
   "metadata": {},
   "source": [
    "# **V. Feature Engineering**"
   ]
  },
  {
   "cell_type": "markdown",
   "metadata": {},
   "source": [
    "## Split antara X (Features) and y (target)"
   ]
  },
  {
   "cell_type": "markdown",
   "metadata": {},
   "source": [
    "Pisah antara target (kolom `admission`) dengan kolom lainnya"
   ]
  },
  {
   "cell_type": "code",
   "execution_count": 18,
   "metadata": {},
   "outputs": [
    {
     "data": {
      "text/html": [
       "<div>\n",
       "<style scoped>\n",
       "    .dataframe tbody tr th:only-of-type {\n",
       "        vertical-align: middle;\n",
       "    }\n",
       "\n",
       "    .dataframe tbody tr th {\n",
       "        vertical-align: top;\n",
       "    }\n",
       "\n",
       "    .dataframe thead th {\n",
       "        text-align: right;\n",
       "    }\n",
       "</style>\n",
       "<table border=\"1\" class=\"dataframe\">\n",
       "  <thead>\n",
       "    <tr style=\"text-align: right;\">\n",
       "      <th></th>\n",
       "      <th>gender</th>\n",
       "      <th>international</th>\n",
       "      <th>gpa</th>\n",
       "      <th>major</th>\n",
       "      <th>race</th>\n",
       "      <th>gmat</th>\n",
       "      <th>work_exp</th>\n",
       "      <th>work_industry</th>\n",
       "    </tr>\n",
       "  </thead>\n",
       "  <tbody>\n",
       "    <tr>\n",
       "      <th>0</th>\n",
       "      <td>Female</td>\n",
       "      <td>False</td>\n",
       "      <td>3.30</td>\n",
       "      <td>Business</td>\n",
       "      <td>Asian</td>\n",
       "      <td>620.0</td>\n",
       "      <td>3.0</td>\n",
       "      <td>Financial Services</td>\n",
       "    </tr>\n",
       "    <tr>\n",
       "      <th>1</th>\n",
       "      <td>Male</td>\n",
       "      <td>False</td>\n",
       "      <td>3.28</td>\n",
       "      <td>Humanities</td>\n",
       "      <td>Black</td>\n",
       "      <td>680.0</td>\n",
       "      <td>5.0</td>\n",
       "      <td>Investment Management</td>\n",
       "    </tr>\n",
       "    <tr>\n",
       "      <th>2</th>\n",
       "      <td>Female</td>\n",
       "      <td>True</td>\n",
       "      <td>3.30</td>\n",
       "      <td>Business</td>\n",
       "      <td>NaN</td>\n",
       "      <td>710.0</td>\n",
       "      <td>5.0</td>\n",
       "      <td>Technology</td>\n",
       "    </tr>\n",
       "    <tr>\n",
       "      <th>3</th>\n",
       "      <td>Male</td>\n",
       "      <td>False</td>\n",
       "      <td>3.47</td>\n",
       "      <td>STEM</td>\n",
       "      <td>Black</td>\n",
       "      <td>690.0</td>\n",
       "      <td>6.0</td>\n",
       "      <td>Technology</td>\n",
       "    </tr>\n",
       "    <tr>\n",
       "      <th>4</th>\n",
       "      <td>Male</td>\n",
       "      <td>False</td>\n",
       "      <td>3.35</td>\n",
       "      <td>STEM</td>\n",
       "      <td>Hispanic</td>\n",
       "      <td>590.0</td>\n",
       "      <td>5.0</td>\n",
       "      <td>Consulting</td>\n",
       "    </tr>\n",
       "    <tr>\n",
       "      <th>...</th>\n",
       "      <td>...</td>\n",
       "      <td>...</td>\n",
       "      <td>...</td>\n",
       "      <td>...</td>\n",
       "      <td>...</td>\n",
       "      <td>...</td>\n",
       "      <td>...</td>\n",
       "      <td>...</td>\n",
       "    </tr>\n",
       "    <tr>\n",
       "      <th>6189</th>\n",
       "      <td>Male</td>\n",
       "      <td>False</td>\n",
       "      <td>3.49</td>\n",
       "      <td>Business</td>\n",
       "      <td>White</td>\n",
       "      <td>640.0</td>\n",
       "      <td>5.0</td>\n",
       "      <td>Other</td>\n",
       "    </tr>\n",
       "    <tr>\n",
       "      <th>6190</th>\n",
       "      <td>Male</td>\n",
       "      <td>False</td>\n",
       "      <td>3.18</td>\n",
       "      <td>STEM</td>\n",
       "      <td>Black</td>\n",
       "      <td>670.0</td>\n",
       "      <td>4.0</td>\n",
       "      <td>Consulting</td>\n",
       "    </tr>\n",
       "    <tr>\n",
       "      <th>6191</th>\n",
       "      <td>Female</td>\n",
       "      <td>True</td>\n",
       "      <td>3.22</td>\n",
       "      <td>Business</td>\n",
       "      <td>NaN</td>\n",
       "      <td>680.0</td>\n",
       "      <td>5.0</td>\n",
       "      <td>Health Care</td>\n",
       "    </tr>\n",
       "    <tr>\n",
       "      <th>6192</th>\n",
       "      <td>Male</td>\n",
       "      <td>True</td>\n",
       "      <td>3.36</td>\n",
       "      <td>Business</td>\n",
       "      <td>NaN</td>\n",
       "      <td>590.0</td>\n",
       "      <td>5.0</td>\n",
       "      <td>Other</td>\n",
       "    </tr>\n",
       "    <tr>\n",
       "      <th>6193</th>\n",
       "      <td>Male</td>\n",
       "      <td>False</td>\n",
       "      <td>3.23</td>\n",
       "      <td>STEM</td>\n",
       "      <td>Hispanic</td>\n",
       "      <td>650.0</td>\n",
       "      <td>4.0</td>\n",
       "      <td>Consulting</td>\n",
       "    </tr>\n",
       "  </tbody>\n",
       "</table>\n",
       "<p>6194 rows × 8 columns</p>\n",
       "</div>"
      ],
      "text/plain": [
       "      gender  international   gpa       major      race   gmat  work_exp  \\\n",
       "0     Female          False  3.30    Business     Asian  620.0       3.0   \n",
       "1       Male          False  3.28  Humanities     Black  680.0       5.0   \n",
       "2     Female           True  3.30    Business       NaN  710.0       5.0   \n",
       "3       Male          False  3.47        STEM     Black  690.0       6.0   \n",
       "4       Male          False  3.35        STEM  Hispanic  590.0       5.0   \n",
       "...      ...            ...   ...         ...       ...    ...       ...   \n",
       "6189    Male          False  3.49    Business     White  640.0       5.0   \n",
       "6190    Male          False  3.18        STEM     Black  670.0       4.0   \n",
       "6191  Female           True  3.22    Business       NaN  680.0       5.0   \n",
       "6192    Male           True  3.36    Business       NaN  590.0       5.0   \n",
       "6193    Male          False  3.23        STEM  Hispanic  650.0       4.0   \n",
       "\n",
       "              work_industry  \n",
       "0        Financial Services  \n",
       "1     Investment Management  \n",
       "2                Technology  \n",
       "3                Technology  \n",
       "4                Consulting  \n",
       "...                     ...  \n",
       "6189                  Other  \n",
       "6190             Consulting  \n",
       "6191            Health Care  \n",
       "6192                  Other  \n",
       "6193             Consulting  \n",
       "\n",
       "[6194 rows x 8 columns]"
      ]
     },
     "execution_count": 18,
     "metadata": {},
     "output_type": "execute_result"
    }
   ],
   "source": [
    "#Splitting between 'X' and 'y'\n",
    "X = df.drop(['admission'], axis = 1)\n",
    "y = df['admission']\n",
    "X"
   ]
  },
  {
   "cell_type": "code",
   "execution_count": 19,
   "metadata": {},
   "outputs": [
    {
     "data": {
      "text/plain": [
       "0       Admit\n",
       "1         NaN\n",
       "2       Admit\n",
       "3         NaN\n",
       "4         NaN\n",
       "        ...  \n",
       "6189      NaN\n",
       "6190      NaN\n",
       "6191    Admit\n",
       "6192      NaN\n",
       "6193      NaN\n",
       "Name: admission, Length: 6194, dtype: object"
      ]
     },
     "execution_count": 19,
     "metadata": {},
     "output_type": "execute_result"
    }
   ],
   "source": [
    "# dataset y\n",
    "y"
   ]
  },
  {
   "cell_type": "markdown",
   "metadata": {},
   "source": [
    "Admission status menjadi target, dipisah dari data dan disimpan pada variabel y"
   ]
  },
  {
   "cell_type": "markdown",
   "metadata": {},
   "source": [
    "## Splitting between Train-Set and Test-set\n",
    "\n",
    "Variabel X dipisah menjadi data Train dan data Test"
   ]
  },
  {
   "cell_type": "code",
   "execution_count": 20,
   "metadata": {},
   "outputs": [
    {
     "name": "stdout",
     "output_type": "stream",
     "text": [
      "Train Size:  (4955, 8)\n",
      "Test Size:  (1239, 8)\n"
     ]
    }
   ],
   "source": [
    "X_train, X_test, y_train, y_test = train_test_split(X, y, test_size = 0.2, random_state = 42)\n",
    "print('Train Size: ', X_train.shape)\n",
    "print('Test Size: ', X_test.shape)"
   ]
  },
  {
   "cell_type": "markdown",
   "metadata": {},
   "source": [
    "## Handling Missing Value\n",
    "\n",
    "Periksa, analisis dan menghilangkan Missing Value dari data"
   ]
  },
  {
   "cell_type": "code",
   "execution_count": 21,
   "metadata": {},
   "outputs": [
    {
     "data": {
      "text/plain": [
       "gender              0\n",
       "international       0\n",
       "gpa                 0\n",
       "major               0\n",
       "race             1476\n",
       "gmat                0\n",
       "work_exp            0\n",
       "work_industry       0\n",
       "dtype: int64"
      ]
     },
     "execution_count": 21,
     "metadata": {},
     "output_type": "execute_result"
    }
   ],
   "source": [
    "# Melihat nilai null pada setiap X_train\n",
    "X_train.isnull().sum()"
   ]
  },
  {
   "cell_type": "code",
   "execution_count": 22,
   "metadata": {},
   "outputs": [
    {
     "data": {
      "text/plain": [
       "gender             0\n",
       "international      0\n",
       "gpa                0\n",
       "major              0\n",
       "race             366\n",
       "gmat               0\n",
       "work_exp           0\n",
       "work_industry      0\n",
       "dtype: int64"
      ]
     },
     "execution_count": 22,
     "metadata": {},
     "output_type": "execute_result"
    }
   ],
   "source": [
    "# Melihat nilai null pada setiap X_test\n",
    "X_test.isnull().sum()"
   ]
  },
  {
   "cell_type": "markdown",
   "metadata": {},
   "source": [
    "Terdapat banyak missing value di kolom `race`. Ingin dianalisis apakah Missing Value ini termasuk MCAR (Missing Completely at Random), MAR (Missing at Random), atau MNAR (Missing Not at Random). Dari yang sudah dijabarkan di bagian [Gambaran Data](#gambaran-data), `race`yang bernilai null adalah International Student."
   ]
  },
  {
   "cell_type": "code",
   "execution_count": 23,
   "metadata": {},
   "outputs": [
    {
     "data": {
      "text/html": [
       "<div>\n",
       "<style scoped>\n",
       "    .dataframe tbody tr th:only-of-type {\n",
       "        vertical-align: middle;\n",
       "    }\n",
       "\n",
       "    .dataframe tbody tr th {\n",
       "        vertical-align: top;\n",
       "    }\n",
       "\n",
       "    .dataframe thead th {\n",
       "        text-align: right;\n",
       "    }\n",
       "</style>\n",
       "<table border=\"1\" class=\"dataframe\">\n",
       "  <thead>\n",
       "    <tr style=\"text-align: right;\">\n",
       "      <th></th>\n",
       "      <th>gender</th>\n",
       "      <th>international</th>\n",
       "      <th>gpa</th>\n",
       "      <th>major</th>\n",
       "      <th>race</th>\n",
       "      <th>gmat</th>\n",
       "      <th>work_exp</th>\n",
       "      <th>work_industry</th>\n",
       "    </tr>\n",
       "  </thead>\n",
       "  <tbody>\n",
       "    <tr>\n",
       "      <th>1020</th>\n",
       "      <td>Female</td>\n",
       "      <td>True</td>\n",
       "      <td>3.25</td>\n",
       "      <td>Humanities</td>\n",
       "      <td>NaN</td>\n",
       "      <td>670.0</td>\n",
       "      <td>3.0</td>\n",
       "      <td>Consulting</td>\n",
       "    </tr>\n",
       "    <tr>\n",
       "      <th>1894</th>\n",
       "      <td>Male</td>\n",
       "      <td>True</td>\n",
       "      <td>3.33</td>\n",
       "      <td>Business</td>\n",
       "      <td>NaN</td>\n",
       "      <td>680.0</td>\n",
       "      <td>4.0</td>\n",
       "      <td>Financial Services</td>\n",
       "    </tr>\n",
       "    <tr>\n",
       "      <th>2226</th>\n",
       "      <td>Female</td>\n",
       "      <td>True</td>\n",
       "      <td>3.22</td>\n",
       "      <td>Business</td>\n",
       "      <td>NaN</td>\n",
       "      <td>660.0</td>\n",
       "      <td>4.0</td>\n",
       "      <td>Nonprofit/Gov</td>\n",
       "    </tr>\n",
       "    <tr>\n",
       "      <th>5451</th>\n",
       "      <td>Male</td>\n",
       "      <td>True</td>\n",
       "      <td>3.26</td>\n",
       "      <td>Humanities</td>\n",
       "      <td>NaN</td>\n",
       "      <td>700.0</td>\n",
       "      <td>5.0</td>\n",
       "      <td>Health Care</td>\n",
       "    </tr>\n",
       "    <tr>\n",
       "      <th>911</th>\n",
       "      <td>Male</td>\n",
       "      <td>True</td>\n",
       "      <td>3.41</td>\n",
       "      <td>STEM</td>\n",
       "      <td>NaN</td>\n",
       "      <td>710.0</td>\n",
       "      <td>6.0</td>\n",
       "      <td>Nonprofit/Gov</td>\n",
       "    </tr>\n",
       "    <tr>\n",
       "      <th>...</th>\n",
       "      <td>...</td>\n",
       "      <td>...</td>\n",
       "      <td>...</td>\n",
       "      <td>...</td>\n",
       "      <td>...</td>\n",
       "      <td>...</td>\n",
       "      <td>...</td>\n",
       "      <td>...</td>\n",
       "    </tr>\n",
       "    <tr>\n",
       "      <th>5051</th>\n",
       "      <td>Female</td>\n",
       "      <td>True</td>\n",
       "      <td>3.37</td>\n",
       "      <td>STEM</td>\n",
       "      <td>NaN</td>\n",
       "      <td>740.0</td>\n",
       "      <td>6.0</td>\n",
       "      <td>PE/VC</td>\n",
       "    </tr>\n",
       "    <tr>\n",
       "      <th>5311</th>\n",
       "      <td>Female</td>\n",
       "      <td>True</td>\n",
       "      <td>3.27</td>\n",
       "      <td>Humanities</td>\n",
       "      <td>NaN</td>\n",
       "      <td>680.0</td>\n",
       "      <td>5.0</td>\n",
       "      <td>Investment Banking</td>\n",
       "    </tr>\n",
       "    <tr>\n",
       "      <th>1685</th>\n",
       "      <td>Female</td>\n",
       "      <td>True</td>\n",
       "      <td>3.13</td>\n",
       "      <td>Business</td>\n",
       "      <td>NaN</td>\n",
       "      <td>640.0</td>\n",
       "      <td>5.0</td>\n",
       "      <td>CPG</td>\n",
       "    </tr>\n",
       "    <tr>\n",
       "      <th>4426</th>\n",
       "      <td>Male</td>\n",
       "      <td>True</td>\n",
       "      <td>3.39</td>\n",
       "      <td>Business</td>\n",
       "      <td>NaN</td>\n",
       "      <td>650.0</td>\n",
       "      <td>4.0</td>\n",
       "      <td>Nonprofit/Gov</td>\n",
       "    </tr>\n",
       "    <tr>\n",
       "      <th>5226</th>\n",
       "      <td>Male</td>\n",
       "      <td>True</td>\n",
       "      <td>3.27</td>\n",
       "      <td>Humanities</td>\n",
       "      <td>NaN</td>\n",
       "      <td>660.0</td>\n",
       "      <td>5.0</td>\n",
       "      <td>Health Care</td>\n",
       "    </tr>\n",
       "  </tbody>\n",
       "</table>\n",
       "<p>1476 rows × 8 columns</p>\n",
       "</div>"
      ],
      "text/plain": [
       "      gender  international   gpa       major race   gmat  work_exp  \\\n",
       "1020  Female           True  3.25  Humanities  NaN  670.0       3.0   \n",
       "1894    Male           True  3.33    Business  NaN  680.0       4.0   \n",
       "2226  Female           True  3.22    Business  NaN  660.0       4.0   \n",
       "5451    Male           True  3.26  Humanities  NaN  700.0       5.0   \n",
       "911     Male           True  3.41        STEM  NaN  710.0       6.0   \n",
       "...      ...            ...   ...         ...  ...    ...       ...   \n",
       "5051  Female           True  3.37        STEM  NaN  740.0       6.0   \n",
       "5311  Female           True  3.27  Humanities  NaN  680.0       5.0   \n",
       "1685  Female           True  3.13    Business  NaN  640.0       5.0   \n",
       "4426    Male           True  3.39    Business  NaN  650.0       4.0   \n",
       "5226    Male           True  3.27  Humanities  NaN  660.0       5.0   \n",
       "\n",
       "           work_industry  \n",
       "1020          Consulting  \n",
       "1894  Financial Services  \n",
       "2226       Nonprofit/Gov  \n",
       "5451         Health Care  \n",
       "911        Nonprofit/Gov  \n",
       "...                  ...  \n",
       "5051               PE/VC  \n",
       "5311  Investment Banking  \n",
       "1685                 CPG  \n",
       "4426       Nonprofit/Gov  \n",
       "5226         Health Care  \n",
       "\n",
       "[1476 rows x 8 columns]"
      ]
     },
     "execution_count": 23,
     "metadata": {},
     "output_type": "execute_result"
    }
   ],
   "source": [
    "X_train[X_train['international'] == True]"
   ]
  },
  {
   "cell_type": "code",
   "execution_count": 24,
   "metadata": {},
   "outputs": [
    {
     "data": {
      "text/html": [
       "<div>\n",
       "<style scoped>\n",
       "    .dataframe tbody tr th:only-of-type {\n",
       "        vertical-align: middle;\n",
       "    }\n",
       "\n",
       "    .dataframe tbody tr th {\n",
       "        vertical-align: top;\n",
       "    }\n",
       "\n",
       "    .dataframe thead th {\n",
       "        text-align: right;\n",
       "    }\n",
       "</style>\n",
       "<table border=\"1\" class=\"dataframe\">\n",
       "  <thead>\n",
       "    <tr style=\"text-align: right;\">\n",
       "      <th></th>\n",
       "      <th>gender</th>\n",
       "      <th>international</th>\n",
       "      <th>gpa</th>\n",
       "      <th>major</th>\n",
       "      <th>race</th>\n",
       "      <th>gmat</th>\n",
       "      <th>work_exp</th>\n",
       "      <th>work_industry</th>\n",
       "    </tr>\n",
       "  </thead>\n",
       "  <tbody>\n",
       "  </tbody>\n",
       "</table>\n",
       "</div>"
      ],
      "text/plain": [
       "Empty DataFrame\n",
       "Columns: [gender, international, gpa, major, race, gmat, work_exp, work_industry]\n",
       "Index: []"
      ]
     },
     "execution_count": 24,
     "metadata": {},
     "output_type": "execute_result"
    }
   ],
   "source": [
    "X_train[(X_train['international'] == True) & (X_train['race'].notnull())]"
   ]
  },
  {
   "cell_type": "markdown",
   "metadata": {},
   "source": [
    "Terlihat bahwa semua calon mahasiswa dengan status `international` **True** memiliki nilai **NaN** pada kolom `race`. Missing value ini bertipe MAR. Maka, semua missing value pada kolom `race` akan diisi dengan **International Student**"
   ]
  },
  {
   "cell_type": "code",
   "execution_count": 25,
   "metadata": {},
   "outputs": [],
   "source": [
    "# isi missing value kolom race dengan Undisclosed\n",
    "\n",
    "X_train['race'] = X_train['race'].fillna('International Student')\n",
    "X_test['race'] = X_test['race'].fillna('International Student')"
   ]
  },
  {
   "cell_type": "code",
   "execution_count": 26,
   "metadata": {},
   "outputs": [
    {
     "data": {
      "text/plain": [
       "4169"
      ]
     },
     "execution_count": 26,
     "metadata": {},
     "output_type": "execute_result"
    }
   ],
   "source": [
    "# Melihat nilai null pada setiap y_train\n",
    "y_train.isnull().sum()"
   ]
  },
  {
   "cell_type": "code",
   "execution_count": 27,
   "metadata": {},
   "outputs": [
    {
     "data": {
      "text/plain": [
       "1025"
      ]
     },
     "execution_count": 27,
     "metadata": {},
     "output_type": "execute_result"
    }
   ],
   "source": [
    "# Melihat nilai null pada setiap y_test\n",
    "y_test.isnull().sum()"
   ]
  },
  {
   "cell_type": "markdown",
   "metadata": {},
   "source": [
    "Sesuai dengan [Gambaran Data](#gambaran-data), nilai null menandakan bahwa calon mahasiswa telah ditolak. Missing value di tabel `y` akan diisi dengan `Deny`"
   ]
  },
  {
   "cell_type": "code",
   "execution_count": 28,
   "metadata": {},
   "outputs": [],
   "source": [
    "y_train = y_train.fillna('Deny or Waitlist')\n",
    "y_test = y_test.fillna('Deny or Waitlist')"
   ]
  },
  {
   "cell_type": "markdown",
   "metadata": {},
   "source": [
    "Pastikan lagi apakah sudah tidak ada Missing Value"
   ]
  },
  {
   "cell_type": "code",
   "execution_count": 29,
   "metadata": {},
   "outputs": [
    {
     "data": {
      "text/plain": [
       "gender           0\n",
       "international    0\n",
       "gpa              0\n",
       "major            0\n",
       "race             0\n",
       "gmat             0\n",
       "work_exp         0\n",
       "work_industry    0\n",
       "dtype: int64"
      ]
     },
     "execution_count": 29,
     "metadata": {},
     "output_type": "execute_result"
    }
   ],
   "source": [
    "X_train.isnull().sum()"
   ]
  },
  {
   "cell_type": "code",
   "execution_count": 30,
   "metadata": {},
   "outputs": [
    {
     "data": {
      "text/plain": [
       "gender           0\n",
       "international    0\n",
       "gpa              0\n",
       "major            0\n",
       "race             0\n",
       "gmat             0\n",
       "work_exp         0\n",
       "work_industry    0\n",
       "dtype: int64"
      ]
     },
     "execution_count": 30,
     "metadata": {},
     "output_type": "execute_result"
    }
   ],
   "source": [
    "X_test.isnull().sum()"
   ]
  },
  {
   "cell_type": "code",
   "execution_count": 31,
   "metadata": {},
   "outputs": [
    {
     "data": {
      "text/plain": [
       "0"
      ]
     },
     "execution_count": 31,
     "metadata": {},
     "output_type": "execute_result"
    }
   ],
   "source": [
    "y_train.isnull().sum()"
   ]
  },
  {
   "cell_type": "code",
   "execution_count": 32,
   "metadata": {},
   "outputs": [
    {
     "data": {
      "text/plain": [
       "0"
      ]
     },
     "execution_count": 32,
     "metadata": {},
     "output_type": "execute_result"
    }
   ],
   "source": [
    "y_test.isnull().sum()"
   ]
  },
  {
   "cell_type": "markdown",
   "metadata": {},
   "source": [
    "Sudah tidak ada Missing Value pada data"
   ]
  },
  {
   "cell_type": "markdown",
   "metadata": {},
   "source": [
    "## **Cardinality**\n",
    "\n",
    "Analisis dan handling (jika perlu) cardinality kolom yang bersifat kategorikal.\n",
    "\n",
    "Pertama - tama hitung cardinality setiap kolom"
   ]
  },
  {
   "cell_type": "code",
   "execution_count": 33,
   "metadata": {},
   "outputs": [
    {
     "name": "stdout",
     "output_type": "stream",
     "text": [
      "Cardinality of column gender is 2\n",
      "Cardinality of column major is 3\n",
      "Cardinality of column race is 6\n",
      "Cardinality of column work_industry is 14\n"
     ]
    }
   ],
   "source": [
    "obj_col = X_train.select_dtypes(include=['object'])\n",
    "for cat in obj_col:\n",
    "  count = len(X_train[cat].unique())\n",
    "  print(f\"Cardinality of column {cat} is {count}\")"
   ]
  },
  {
   "cell_type": "markdown",
   "metadata": {},
   "source": [
    "Tidak ada nilai cardinality yang terlalu besar, tidak perlu ada perubahan data"
   ]
  },
  {
   "cell_type": "markdown",
   "metadata": {},
   "source": [
    "## Handling Outlier\n",
    "\n",
    "Identifikasi dan pengelolaan outliers dari distribusi data"
   ]
  },
  {
   "cell_type": "markdown",
   "metadata": {},
   "source": [
    ">Cek skewness setiap variabel data yang bersifat numerik"
   ]
  },
  {
   "cell_type": "code",
   "execution_count": 34,
   "metadata": {},
   "outputs": [
    {
     "data": {
      "text/plain": [
       "Index(['gender', 'international', 'gpa', 'major', 'race', 'gmat', 'work_exp',\n",
       "       'work_industry'],\n",
       "      dtype='object')"
      ]
     },
     "execution_count": 34,
     "metadata": {},
     "output_type": "execute_result"
    }
   ],
   "source": [
    "X_train.columns"
   ]
  },
  {
   "cell_type": "code",
   "execution_count": 35,
   "metadata": {},
   "outputs": [
    {
     "data": {
      "text/plain": [
       "gpa        -0.014846\n",
       "gmat        0.307506\n",
       "work_exp   -0.029538\n",
       "dtype: float64"
      ]
     },
     "execution_count": 35,
     "metadata": {},
     "output_type": "execute_result"
    }
   ],
   "source": [
    "num_col = ['gpa', 'gmat', 'work_exp']\n",
    "X_train[num_col].skew()"
   ]
  },
  {
   "cell_type": "markdown",
   "metadata": {},
   "source": [
    "Semua kolom numerik memiliki nilai skewness sangat kecil, kurang dari 0.5, berarti semua data berdistribusi normal. Selanjutnya periksa persentase outlier dari setiap variabel"
   ]
  },
  {
   "cell_type": "code",
   "execution_count": 36,
   "metadata": {},
   "outputs": [],
   "source": [
    "# Membuat fungsi untuk menghitung persentase outlier pada variabel berdistribusi normal\n",
    "def calculate_outlier_percentages_normal(df, columns, threshold=3):\n",
    "    for variable in columns:\n",
    "        mean = df[variable].mean()\n",
    "        std = df[variable].std()\n",
    "\n",
    "        z = (df[variable] - mean) / std\n",
    "        outliers = df[np.abs(z) > threshold]\n",
    "        \n",
    "        outlier_percentage = len(outliers) / len(df) * 100\n",
    "\n",
    "        print(f'Percentage of outliers in {variable}: {outlier_percentage:.2f}%')"
   ]
  },
  {
   "cell_type": "code",
   "execution_count": 37,
   "metadata": {},
   "outputs": [
    {
     "name": "stdout",
     "output_type": "stream",
     "text": [
      "Percentage of outliers in gpa: 0.30%\n",
      "Percentage of outliers in gmat: 0.00%\n",
      "Percentage of outliers in work_exp: 0.06%\n"
     ]
    }
   ],
   "source": [
    "calculate_outlier_percentages_normal(X_train, num_col)"
   ]
  },
  {
   "cell_type": "markdown",
   "metadata": {},
   "source": [
    "Terdapat sedikit outlier pada kolom `gpa` dan `work_exp`, jauh di bawah 1%. Tidak ada outlier pada kolom `gmat`. Kolom `gpa` dan `work_exp` akan dicapping outlier-nya dengan Winsorizer"
   ]
  },
  {
   "cell_type": "code",
   "execution_count": 38,
   "metadata": {},
   "outputs": [],
   "source": [
    "winsorisernormal = Winsorizer(capping_method='gaussian', # choose gaussian for mean and std\n",
    "                          tail='both', # cap left, right or both tails\n",
    "                          fold=1.5,\n",
    "                          variables=['gpa', 'work_exp'])\n",
    "\n",
    "winsorisernormal.fit(X_train)\n",
    "X_train = winsorisernormal.transform(X_train)"
   ]
  },
  {
   "cell_type": "markdown",
   "metadata": {},
   "source": [
    ">Periksa lagi apakah outlier sudah hilang"
   ]
  },
  {
   "cell_type": "code",
   "execution_count": 39,
   "metadata": {},
   "outputs": [
    {
     "name": "stdout",
     "output_type": "stream",
     "text": [
      "Percentage of outliers in gpa: 0.00%\n",
      "Percentage of outliers in gmat: 0.00%\n",
      "Percentage of outliers in work_exp: 0.00%\n"
     ]
    }
   ],
   "source": [
    "calculate_outlier_percentages_normal(X_train, num_col)"
   ]
  },
  {
   "cell_type": "markdown",
   "metadata": {},
   "source": [
    "Sudah tidak ada outlier pada data"
   ]
  },
  {
   "cell_type": "markdown",
   "metadata": {},
   "source": [
    "## Feature Selection\n",
    "\n",
    "Memeriksa korelasi setiap variabel dengan target dan mengolah data dengan memeriksa korelasi setiap variabel terhadap target"
   ]
  },
  {
   "cell_type": "code",
   "execution_count": 40,
   "metadata": {},
   "outputs": [
    {
     "data": {
      "text/html": [
       "<div>\n",
       "<style scoped>\n",
       "    .dataframe tbody tr th:only-of-type {\n",
       "        vertical-align: middle;\n",
       "    }\n",
       "\n",
       "    .dataframe tbody tr th {\n",
       "        vertical-align: top;\n",
       "    }\n",
       "\n",
       "    .dataframe thead th {\n",
       "        text-align: right;\n",
       "    }\n",
       "</style>\n",
       "<table border=\"1\" class=\"dataframe\">\n",
       "  <thead>\n",
       "    <tr style=\"text-align: right;\">\n",
       "      <th></th>\n",
       "      <th>gender</th>\n",
       "      <th>international</th>\n",
       "      <th>gpa</th>\n",
       "      <th>major</th>\n",
       "      <th>race</th>\n",
       "      <th>gmat</th>\n",
       "      <th>work_exp</th>\n",
       "      <th>work_industry</th>\n",
       "      <th>admission</th>\n",
       "    </tr>\n",
       "  </thead>\n",
       "  <tbody>\n",
       "    <tr>\n",
       "      <th>6189</th>\n",
       "      <td>Male</td>\n",
       "      <td>False</td>\n",
       "      <td>3.477756</td>\n",
       "      <td>Business</td>\n",
       "      <td>White</td>\n",
       "      <td>640.0</td>\n",
       "      <td>5.000000</td>\n",
       "      <td>Other</td>\n",
       "      <td>Deny or Waitlist</td>\n",
       "    </tr>\n",
       "    <tr>\n",
       "      <th>711</th>\n",
       "      <td>Female</td>\n",
       "      <td>False</td>\n",
       "      <td>3.477756</td>\n",
       "      <td>Humanities</td>\n",
       "      <td>Other</td>\n",
       "      <td>690.0</td>\n",
       "      <td>4.000000</td>\n",
       "      <td>Consulting</td>\n",
       "      <td>Admit</td>\n",
       "    </tr>\n",
       "    <tr>\n",
       "      <th>3954</th>\n",
       "      <td>Female</td>\n",
       "      <td>False</td>\n",
       "      <td>3.430000</td>\n",
       "      <td>STEM</td>\n",
       "      <td>Asian</td>\n",
       "      <td>660.0</td>\n",
       "      <td>4.000000</td>\n",
       "      <td>Consulting</td>\n",
       "      <td>Admit</td>\n",
       "    </tr>\n",
       "    <tr>\n",
       "      <th>1020</th>\n",
       "      <td>Female</td>\n",
       "      <td>True</td>\n",
       "      <td>3.250000</td>\n",
       "      <td>Humanities</td>\n",
       "      <td>International Student</td>\n",
       "      <td>670.0</td>\n",
       "      <td>3.477609</td>\n",
       "      <td>Consulting</td>\n",
       "      <td>Admit</td>\n",
       "    </tr>\n",
       "    <tr>\n",
       "      <th>5726</th>\n",
       "      <td>Male</td>\n",
       "      <td>False</td>\n",
       "      <td>3.160000</td>\n",
       "      <td>Business</td>\n",
       "      <td>Asian</td>\n",
       "      <td>640.0</td>\n",
       "      <td>5.000000</td>\n",
       "      <td>Retail</td>\n",
       "      <td>Deny or Waitlist</td>\n",
       "    </tr>\n",
       "  </tbody>\n",
       "</table>\n",
       "</div>"
      ],
      "text/plain": [
       "      gender  international       gpa       major                   race  \\\n",
       "6189    Male          False  3.477756    Business                  White   \n",
       "711   Female          False  3.477756  Humanities                  Other   \n",
       "3954  Female          False  3.430000        STEM                  Asian   \n",
       "1020  Female           True  3.250000  Humanities  International Student   \n",
       "5726    Male          False  3.160000    Business                  Asian   \n",
       "\n",
       "       gmat  work_exp work_industry         admission  \n",
       "6189  640.0  5.000000         Other  Deny or Waitlist  \n",
       "711   690.0  4.000000    Consulting             Admit  \n",
       "3954  660.0  4.000000    Consulting             Admit  \n",
       "1020  670.0  3.477609    Consulting             Admit  \n",
       "5726  640.0  5.000000        Retail  Deny or Waitlist  "
      ]
     },
     "execution_count": 40,
     "metadata": {},
     "output_type": "execute_result"
    }
   ],
   "source": [
    "# Menggabungkan X_train and y_train\n",
    "feature_select = pd.concat([X_train, y_train], axis=1)\n",
    "\n",
    "# DataFrame\n",
    "feature_select.head()"
   ]
  },
  {
   "cell_type": "markdown",
   "metadata": {},
   "source": [
    ">Menggunakan PhiK untuk menghitung korelasi variabel dengan target"
   ]
  },
  {
   "cell_type": "code",
   "execution_count": 41,
   "metadata": {},
   "outputs": [
    {
     "name": "stdout",
     "output_type": "stream",
     "text": [
      "interval columns not set, guessing: ['gpa', 'gmat', 'work_exp']\n"
     ]
    },
    {
     "data": {
      "image/png": "[encoded data removed]",
      "text/plain": [
       "<Figure size 2000x2000 with 2 Axes>"
      ]
     },
     "metadata": {},
     "output_type": "display_data"
    }
   ],
   "source": [
    "# Create function to correlate variables with default\n",
    "def compute_phik_correlation(dataframe, columns):\n",
    "    subset = dataframe[columns]\n",
    "    correlation_matrix = subset.phik_matrix()\n",
    "    return correlation_matrix\n",
    "\n",
    "# Define the list of columns for each subset\n",
    "columns = feature_select.columns.tolist()\n",
    "\n",
    "# Compute Phi-K correlation for each set of columns and print\n",
    "correlation = compute_phik_correlation(feature_select, columns)\n",
    "\n",
    "plot_correlation_matrix(correlation.values, x_labels=correlation.columns, y_labels=correlation.index, \n",
    "                        vmin=0, vmax=1, color_map='Blues', title=r'correlation $\\phi_K$', fontsize_factor=1.5,\n",
    "                        figsize=(20,20))\n",
    "plt.tight_layout()"
   ]
  },
  {
   "cell_type": "markdown",
   "metadata": {},
   "source": [
    "Nilai korelasi setiap variabel terhadap target termasuk kecil, dengan nilai tertinggi sebesar 0.41 pada kolom `gmat`. Dari nilai - nilai korelasi ini, akan dibuang variabel dengan nilai **terlalu kecil**, yaitu yang kurang dari **0.1**, yaitu `work_industry`, `work_exp`, `major`, `international`"
   ]
  },
  {
   "cell_type": "code",
   "execution_count": 42,
   "metadata": {},
   "outputs": [
    {
     "data": {
      "text/html": [
       "<div>\n",
       "<style scoped>\n",
       "    .dataframe tbody tr th:only-of-type {\n",
       "        vertical-align: middle;\n",
       "    }\n",
       "\n",
       "    .dataframe tbody tr th {\n",
       "        vertical-align: top;\n",
       "    }\n",
       "\n",
       "    .dataframe thead th {\n",
       "        text-align: right;\n",
       "    }\n",
       "</style>\n",
       "<table border=\"1\" class=\"dataframe\">\n",
       "  <thead>\n",
       "    <tr style=\"text-align: right;\">\n",
       "      <th></th>\n",
       "      <th>gender</th>\n",
       "      <th>gpa</th>\n",
       "      <th>race</th>\n",
       "      <th>gmat</th>\n",
       "    </tr>\n",
       "  </thead>\n",
       "  <tbody>\n",
       "    <tr>\n",
       "      <th>6189</th>\n",
       "      <td>Male</td>\n",
       "      <td>3.477756</td>\n",
       "      <td>White</td>\n",
       "      <td>640.0</td>\n",
       "    </tr>\n",
       "    <tr>\n",
       "      <th>711</th>\n",
       "      <td>Female</td>\n",
       "      <td>3.477756</td>\n",
       "      <td>Other</td>\n",
       "      <td>690.0</td>\n",
       "    </tr>\n",
       "    <tr>\n",
       "      <th>3954</th>\n",
       "      <td>Female</td>\n",
       "      <td>3.430000</td>\n",
       "      <td>Asian</td>\n",
       "      <td>660.0</td>\n",
       "    </tr>\n",
       "    <tr>\n",
       "      <th>1020</th>\n",
       "      <td>Female</td>\n",
       "      <td>3.250000</td>\n",
       "      <td>International Student</td>\n",
       "      <td>670.0</td>\n",
       "    </tr>\n",
       "    <tr>\n",
       "      <th>5726</th>\n",
       "      <td>Male</td>\n",
       "      <td>3.160000</td>\n",
       "      <td>Asian</td>\n",
       "      <td>640.0</td>\n",
       "    </tr>\n",
       "    <tr>\n",
       "      <th>...</th>\n",
       "      <td>...</td>\n",
       "      <td>...</td>\n",
       "      <td>...</td>\n",
       "      <td>...</td>\n",
       "    </tr>\n",
       "    <tr>\n",
       "      <th>3772</th>\n",
       "      <td>Female</td>\n",
       "      <td>3.250000</td>\n",
       "      <td>Black</td>\n",
       "      <td>640.0</td>\n",
       "    </tr>\n",
       "    <tr>\n",
       "      <th>5191</th>\n",
       "      <td>Male</td>\n",
       "      <td>3.260000</td>\n",
       "      <td>Other</td>\n",
       "      <td>650.0</td>\n",
       "    </tr>\n",
       "    <tr>\n",
       "      <th>5226</th>\n",
       "      <td>Male</td>\n",
       "      <td>3.270000</td>\n",
       "      <td>International Student</td>\n",
       "      <td>660.0</td>\n",
       "    </tr>\n",
       "    <tr>\n",
       "      <th>5390</th>\n",
       "      <td>Male</td>\n",
       "      <td>3.240000</td>\n",
       "      <td>Asian</td>\n",
       "      <td>570.0</td>\n",
       "    </tr>\n",
       "    <tr>\n",
       "      <th>860</th>\n",
       "      <td>Male</td>\n",
       "      <td>3.380000</td>\n",
       "      <td>White</td>\n",
       "      <td>660.0</td>\n",
       "    </tr>\n",
       "  </tbody>\n",
       "</table>\n",
       "<p>4955 rows × 4 columns</p>\n",
       "</div>"
      ],
      "text/plain": [
       "      gender       gpa                   race   gmat\n",
       "6189    Male  3.477756                  White  640.0\n",
       "711   Female  3.477756                  Other  690.0\n",
       "3954  Female  3.430000                  Asian  660.0\n",
       "1020  Female  3.250000  International Student  670.0\n",
       "5726    Male  3.160000                  Asian  640.0\n",
       "...      ...       ...                    ...    ...\n",
       "3772  Female  3.250000                  Black  640.0\n",
       "5191    Male  3.260000                  Other  650.0\n",
       "5226    Male  3.270000  International Student  660.0\n",
       "5390    Male  3.240000                  Asian  570.0\n",
       "860     Male  3.380000                  White  660.0\n",
       "\n",
       "[4955 rows x 4 columns]"
      ]
     },
     "execution_count": 42,
     "metadata": {},
     "output_type": "execute_result"
    }
   ],
   "source": [
    "#Drop column that < 0.1\n",
    "X_train.drop(['work_industry', 'work_exp', 'major', 'international'], axis = 1, inplace = True)\n",
    "X_test.drop(['work_industry', 'work_exp', 'major', 'international'], axis = 1, inplace = True)\n",
    "X_train"
   ]
  },
  {
   "cell_type": "markdown",
   "metadata": {},
   "source": [
    "## Column Transformer\n",
    "\n",
    "Bagian ini adalah proses untuk men-scaling data numerik dan encoding data kategorikal"
   ]
  },
  {
   "cell_type": "markdown",
   "metadata": {},
   "source": [
    "Dari analisis sebelumnya di bagian [Handling Outlier](#handling-outlier), ditemukan bahwa semua data numerik berdistribusi normal, maka proses scaling akan menggunakan **Standard Scaler**. Untuk data kategorikal menggunakan **OneHotEncoding**. Karena kolom `race` bisa diisi kosong maka dibuat Pipeline supaya model bisa meng-handle missing value ini"
   ]
  },
  {
   "cell_type": "code",
   "execution_count": 43,
   "metadata": {},
   "outputs": [],
   "source": [
    "# Pipeline untuk kolom 'race'\n",
    "race_pipeline = Pipeline([\n",
    "    ('imputer', SimpleImputer(strategy='constant', fill_value='International Student')),\n",
    "    ('encoder', OneHotEncoder(handle_unknown=\"ignore\", sparse_output=False))\n",
    "])\n",
    "\n",
    "# ColumnTransformer\n",
    "transformer = ColumnTransformer([\n",
    "    ('race_processing', race_pipeline, ['race']),\n",
    "    ('scaler', StandardScaler(), ['gpa', 'gmat']),\n",
    "    ('encoder_gender', OneHotEncoder(handle_unknown=\"ignore\", sparse_output=False), ['gender']),\n",
    "], remainder='passthrough')"
   ]
  },
  {
   "cell_type": "markdown",
   "metadata": {},
   "source": [
    "Target juga diencoding, menggunakan Label Encoder"
   ]
  },
  {
   "cell_type": "code",
   "execution_count": 44,
   "metadata": {},
   "outputs": [],
   "source": [
    "#### Encode target\n",
    "label_encoder = LabelEncoder()\n",
    "y_train = label_encoder.fit_transform(y_train)\n",
    "y_test = label_encoder.transform(y_test)"
   ]
  },
  {
   "cell_type": "markdown",
   "metadata": {},
   "source": [
    "# **VI. Model Definition**"
   ]
  },
  {
   "cell_type": "markdown",
   "metadata": {},
   "source": [
    "Model yang dianggap cocok untuk data ini adalah:\n",
    "- **Decision Tree**: Mudah dipahami, bisa dilihat secara langsung bagaimana keputusan diambil pada setiap titik percabangan (node). Dapat menangani variabel numerik dan kategorikal\n",
    "\n",
    "- **Logistic Regression**: Mudah untuk diinterpretasikan dan memberikan hasil yang jelas. Model sangat efektif jika hubungan antara fitur dan target bersifat linier.\n",
    "\n",
    "- **Random Forest**: Model yang bisa bekerja dengan baik pada dataset dengan banyak fitur dan interaksi kompleks antar variabel.\n",
    "\n",
    "- **K-Nearest Neighbors**: Bekerja lebih baik dengan dataset kecil hingga sedang karena sifatnya yang memerlukan komputasi jarak antar data untuk setiap prediksi, sangat sensitif terhadap skala fitur\n",
    "\n",
    "- **XGBoost**: Algoritma boosting yang menggabungkan banyak model sederhana (Decision Tree) untuk menghasilkan prediksi yang lebih kuat, dapat menangani data numerik dan kategorikal dengan baik, cocok untuk dataset yang lebih besar dan kompleks.\n",
    "\n",
    "- **Gaussian Naive Bayes**: Cocok untuk data dengan jumlah fitur yang besar, cepat untuk dilatih dan diinferensikan, dapat menangani variabel kontinu dengan asumsi distribusi normal, cenderung tidak overfitting.\n",
    "\n",
    "- **Support Vector Classification**: melakukan klasifikasi data dengan cara memisahkan kelas-kelas dalam data dengan margin terbesar. Dapat menangani data non-linier, robust terhadap overfitting\n",
    "\n",
    "Hyperparameter: Menggunakan GridSearchCV\n",
    "\n",
    "Dibuat model dan dianalisa performanya dengan metric:\n",
    "- **AUC-ROC**: mengevaluasi kemampuan model dalam membedakan antara kelas.\n",
    "\n",
    "- Prioritas **Recall**: Mengukur kemampuan model untuk mendeteksi semua positif, yaitu, berapa banyak kandidat yang benar-benar diterima dapat terdeteksi dengan benar. Dalam konteks penerimaan universitas, akan lebih berisiko untuk menolak calon yang seharusnya diterima daripada menerima calon yang sebenarnya tidak memenuhi syarat. Calon yang sangat potensial namun tidak diterima bisa merasa sangat dirugikan, dan hal ini bisa mengurangi reputasi universitas."
   ]
  },
  {
   "cell_type": "markdown",
   "metadata": {},
   "source": [
    "# **VII. Model Training**"
   ]
  },
  {
   "cell_type": "markdown",
   "metadata": {},
   "source": [
    "## A. Base Model Evaluation"
   ]
  },
  {
   "cell_type": "markdown",
   "metadata": {},
   "source": [
    "Pertama - tama ingin menentukan Base Model yang tepat. Buat Pipeline untuk semua model"
   ]
  },
  {
   "cell_type": "markdown",
   "metadata": {},
   "source": [
    "### Pipeline"
   ]
  },
  {
   "cell_type": "code",
   "execution_count": 45,
   "metadata": {},
   "outputs": [],
   "source": [
    "#Making pipeline for LogReg\n",
    "pipe_logreg = Pipeline([\n",
    "('transformer', transformer),\n",
    "('classifier', LogisticRegression(max_iter=1000000))\n",
    "])\n",
    "\n",
    "#Making pipeline for Decision Tree\n",
    "pipe_dt = Pipeline([\n",
    "('transformer', transformer),\n",
    "('classifier', DecisionTreeClassifier(random_state=10))\n",
    "])\n",
    "\n",
    "#Making pipeline for Random Forest\n",
    "pipe_rf = Pipeline([\n",
    "('transformer', transformer),\n",
    "('classifier', RandomForestClassifier(random_state=10))\n",
    "])\n",
    "\n",
    "#Making pipeline for KNN\n",
    "pipe_knn = Pipeline([\n",
    "('transformer', transformer),\n",
    "('classifier', KNeighborsClassifier())\n",
    "])\n",
    "\n",
    "#Making pipeline for SVC\n",
    "pipe_gnb = Pipeline([\n",
    "('transformer', transformer),\n",
    "('classifier', GaussianNB())\n",
    "])\n",
    "\n",
    "#Making pipeline for XGBoost\n",
    "pipe_xgb = Pipeline([\n",
    "('transformer', transformer),\n",
    "('classifier', XGBClassifier())\n",
    "])\n",
    "\n",
    "pipe_svc = Pipeline([\n",
    "('transformer', transformer),\n",
    "('classifier', SVC())\n",
    "])"
   ]
  },
  {
   "cell_type": "markdown",
   "metadata": {},
   "source": [
    "### AUC Score"
   ]
  },
  {
   "cell_type": "markdown",
   "metadata": {},
   "source": [
    "Menampilkan nilai AUC Score untuk semua model"
   ]
  },
  {
   "cell_type": "code",
   "execution_count": 46,
   "metadata": {},
   "outputs": [],
   "source": [
    "def evaluate_auc_pipelines(pipelines, X_train, X_test, y_train, y_test):\n",
    "    results = []\n",
    "    for name, pipeline in pipelines.items():\n",
    "        # Fit pipeline ke data training\n",
    "        pipeline.fit(X_train, y_train)\n",
    "        \n",
    "        # Prediksi probabilitas untuk menghitung AUC\n",
    "        y_pred_train = pipeline.predict(X_train)\n",
    "        y_pred_test = pipeline.predict(X_test)\n",
    "        \n",
    "        # Hitung AUC untuk train dan test\n",
    "        auc_train = roc_auc_score(y_train, y_pred_train)\n",
    "        auc_test = roc_auc_score(y_test, y_pred_test)\n",
    "        \n",
    "        results.append((name, auc_train, auc_test))\n",
    "        \n",
    "    # Tampilkan hasil\n",
    "    results_df = pd.DataFrame(results, columns=['Model', 'AUC Train', 'AUC Test'])\n",
    "    \n",
    "    # Display the DataFrame\n",
    "    print(results_df)\n",
    "    \n",
    "    return results"
   ]
  },
  {
   "cell_type": "code",
   "execution_count": 47,
   "metadata": {},
   "outputs": [
    {
     "name": "stdout",
     "output_type": "stream",
     "text": [
      "                 Model  AUC Train  AUC Test\n",
      "0  Logistic Regression   0.552285  0.558965\n",
      "1        Decision Tree   0.914433  0.577027\n",
      "2        Random Forest   0.847468  0.568450\n",
      "3                  KNN   0.679095  0.586495\n",
      "4           GaussianNB   0.634309  0.613889\n",
      "5              XGBoost   0.721889  0.558451\n",
      "6                  SVC   0.504619  0.500000\n"
     ]
    }
   ],
   "source": [
    "pipelines = {\n",
    "    'Logistic Regression': pipe_logreg,\n",
    "    'Decision Tree': pipe_dt,\n",
    "    'Random Forest': pipe_rf,\n",
    "    'KNN': pipe_knn,\n",
    "    'GaussianNB': pipe_gnb,\n",
    "    'XGBoost': pipe_xgb,\n",
    "    'SVC': pipe_svc\n",
    "}\n",
    "\n",
    "# Panggil fungsi evaluate_pipelines\n",
    "results = evaluate_auc_pipelines(pipelines, X_train, X_test, y_train, y_test)"
   ]
  },
  {
   "cell_type": "markdown",
   "metadata": {},
   "source": [
    "- **GaussianNB** memiliki performa paling konsisten dan terbaik pada data test (AUC test: 0.6139). Hal ini menunjukkan model ini cocok untuk dataset dengan pola sederhana ini.\n",
    "\n",
    "- **Decision Tree** dan **Random Forest** cenderung overfit, Skor AUC test turun drastis dari Skor AUC train, tidak cocok untuk dataset ini tanpa tuning lebih lanjut.\n",
    "\n",
    "- **KNN** menunjukkan hasil cukup stabil, tapi performanya masih di bawah **GaussianNB**.\n",
    "\n",
    "- **KNN** skor AUC untuk data train dan test relatif dekat, dengan sedikit performa generalisasi yang lebih baik dibandingkan model lain. Model tidak terlalu overfitting, tetapi performanya masih kurang optimal.\n",
    "\n",
    "- **XGBoost** tidak optimal meskipun memiliki potensi\n",
    "\n",
    "- **Logistic Regression** dan **SVC** memiliki performa yang terlalu rendah, bersifat underfitting karena nilai AUC yang rendah\n",
    "\n",
    "Model terbaik dari penilaian skor AUC adalah **GaussianNB**, dikarenakan perbedaan antara skor training dan skor testing yang relatif kecil, dan juga memiliki skor testing yang lebih tinggi dari model lainnya, yaitu 0.61"
   ]
  },
  {
   "cell_type": "markdown",
   "metadata": {},
   "source": [
    "### Classification Report\n",
    "\n",
    "Menggunakan metric recall saja"
   ]
  },
  {
   "cell_type": "code",
   "execution_count": 48,
   "metadata": {},
   "outputs": [],
   "source": [
    "def evaluate_classification_report(pipelines, X_train, X_test, y_train, y_test):\n",
    "\n",
    "    for name, pipeline in pipelines.items():\n",
    "        print(f\"Analisis: {name}\")\n",
    "        \n",
    "        # Fit pipeline ke data training\n",
    "        pipeline.fit(X_train, y_train)\n",
    "        \n",
    "        # Prediksi label\n",
    "        y_pred_test = pipeline.predict(X_test)\n",
    "        \n",
    "        # Classification report\n",
    "        label = ['Admit', 'Deny or Waitlist']\n",
    "        report_test = classification_report(y_test, y_pred_test, zero_division=0, target_names=label)\n",
    "        \n",
    "        print(f\"Classification Report - Test:\\n{report_test}\")\n",
    "        print(\"-\" * 50)"
   ]
  },
  {
   "cell_type": "code",
   "execution_count": 49,
   "metadata": {},
   "outputs": [
    {
     "name": "stdout",
     "output_type": "stream",
     "text": [
      "\n",
      "Evaluating Classification Reports:\n",
      "Analisis: Logistic Regression\n",
      "Classification Report - Test:\n",
      "                  precision    recall  f1-score   support\n",
      "\n",
      "           Admit       0.52      0.14      0.22       196\n",
      "Deny or Waitlist       0.86      0.98      0.91      1043\n",
      "\n",
      "        accuracy                           0.84      1239\n",
      "       macro avg       0.69      0.56      0.57      1239\n",
      "    weighted avg       0.80      0.84      0.80      1239\n",
      "\n",
      "--------------------------------------------------\n",
      "Analisis: Decision Tree\n",
      "Classification Report - Test:\n",
      "                  precision    recall  f1-score   support\n",
      "\n",
      "           Admit       0.29      0.28      0.29       196\n",
      "Deny or Waitlist       0.87      0.87      0.87      1043\n",
      "\n",
      "        accuracy                           0.78      1239\n",
      "       macro avg       0.58      0.58      0.58      1239\n",
      "    weighted avg       0.78      0.78      0.78      1239\n",
      "\n",
      "--------------------------------------------------\n",
      "Analisis: Random Forest\n",
      "Classification Report - Test:\n",
      "                  precision    recall  f1-score   support\n",
      "\n",
      "           Admit       0.31      0.23      0.27       196\n",
      "Deny or Waitlist       0.86      0.90      0.88      1043\n",
      "\n",
      "        accuracy                           0.80      1239\n",
      "       macro avg       0.59      0.57      0.57      1239\n",
      "    weighted avg       0.78      0.80      0.78      1239\n",
      "\n",
      "--------------------------------------------------\n",
      "Analisis: KNN\n",
      "Classification Report - Test:\n",
      "                  precision    recall  f1-score   support\n",
      "\n",
      "           Admit       0.39      0.24      0.30       196\n",
      "Deny or Waitlist       0.87      0.93      0.90      1043\n",
      "\n",
      "        accuracy                           0.82      1239\n",
      "       macro avg       0.63      0.59      0.60      1239\n",
      "    weighted avg       0.79      0.82      0.80      1239\n",
      "\n",
      "--------------------------------------------------\n",
      "Analisis: GaussianNB\n",
      "Classification Report - Test:\n",
      "                  precision    recall  f1-score   support\n",
      "\n",
      "           Admit       0.38      0.33      0.35       196\n",
      "Deny or Waitlist       0.88      0.90      0.89      1043\n",
      "\n",
      "        accuracy                           0.81      1239\n",
      "       macro avg       0.63      0.61      0.62      1239\n",
      "    weighted avg       0.80      0.81      0.80      1239\n",
      "\n",
      "--------------------------------------------------\n",
      "Analisis: XGBoost\n",
      "Classification Report - Test:\n",
      "                  precision    recall  f1-score   support\n",
      "\n",
      "           Admit       0.37      0.17      0.24       196\n",
      "Deny or Waitlist       0.86      0.94      0.90      1043\n",
      "\n",
      "        accuracy                           0.82      1239\n",
      "       macro avg       0.61      0.56      0.57      1239\n",
      "    weighted avg       0.78      0.82      0.79      1239\n",
      "\n",
      "--------------------------------------------------\n",
      "Analisis: SVC\n",
      "Classification Report - Test:\n",
      "                  precision    recall  f1-score   support\n",
      "\n",
      "           Admit       0.00      0.00      0.00       196\n",
      "Deny or Waitlist       0.84      1.00      0.91      1043\n",
      "\n",
      "        accuracy                           0.84      1239\n",
      "       macro avg       0.42      0.50      0.46      1239\n",
      "    weighted avg       0.71      0.84      0.77      1239\n",
      "\n",
      "--------------------------------------------------\n"
     ]
    }
   ],
   "source": [
    "# Evaluasi Classification Report\n",
    "print(\"\\nEvaluating Classification Reports:\")\n",
    "evaluate_classification_report(pipelines, X_train, X_test, y_train, y_test)"
   ]
  },
  {
   "cell_type": "markdown",
   "metadata": {},
   "source": [
    "- Semua model memiliki recall yang relatif tinggi untuk kelas Deny or Waitlist, yaitu sekitar 0.86-0.98, menunjukkan bahwa model-model ini cukup baik dalam mendeteksi kelas Deny or Waitlist dan menghindari false negatives untuk kelas tersebut.\n",
    "\n",
    "- Model-model seperti Logistic Regression (0.14), Random Forest (0.23), XGBoost (0.17) dan SVC (0) memiliki recall yang rendah untuk kelas Admit. Menunjukkan bahwa model-model ini cenderung mengklasifikasikan sebagian besar data testing kelas Admit sebagai kelas Deny or Waitlist, menghasilkan banyak false positives. Decision Tree, GaussianNB, dan KNN memiliki recall sedikit lebih baik untuk kelas Admit, yaitu sekitar 0.24-0.33, meskipun masih dianggap cukup rendah.\n",
    "\n",
    "- Semua model menunjukkan hasil yang sangat tidak seimbang antara kelas Admit dan kelas Deny or Waitlist, dengan kelas Deny or Waitlist selalu mendapatkan recall yang sangat baik, tetapi kelas Admit seringkali terabaikan. Hal ini disebabkan oleh ketidakseimbangan dalam jumlah data. Dapat dilihat dari data test ini, antara kelas Admit yang berjumlah 196 dan kelas Deny or Waitlist yang berjumlah 1043.\n",
    "\n",
    "Dari analisis Classification Report, model terbaik diambil dari nilai rata - rata recall weighted, karena data tidak seimbang maka perlu ditambah nilai bobot yang sesuai untuk setiap kelas pada data, dan juga nilai recall untuk setiap kelas. Didapat bahwa Logistic Regression dan SVC adalah model terbaik dengan weighted recall 0.84, akan tetapi Logistic Regression memiliki precision kelas 0 yang lebiih tinggi dari SVC, maka model terbaik adalah Logistic Regression"
   ]
  },
  {
   "cell_type": "markdown",
   "metadata": {},
   "source": [
    "### Cross Validation"
   ]
  },
  {
   "cell_type": "markdown",
   "metadata": {},
   "source": [
    "Melakukan Cross Validation untuk memeriksa performa model. Karena data tidak seimbang, scoring menggunakan metric recall_weighted"
   ]
  },
  {
   "cell_type": "code",
   "execution_count": 50,
   "metadata": {},
   "outputs": [],
   "source": [
    "def evaluate_cross_validation(pipelines, X, y, cv, scoring):\n",
    "    results = []\n",
    "    best_pipeline = None\n",
    "    best_score = 0\n",
    "    \n",
    "    # Loop through each pipeline\n",
    "    for name, pipeline in pipelines.items():\n",
    "        print(f\"Analisis: {name}\")\n",
    "        scores = cross_val_score(pipeline, X, y, cv=cv, scoring=scoring)\n",
    "        \n",
    "        # Calculate statistics\n",
    "        mean_score = scores.mean()\n",
    "        std_score = scores.std()\n",
    "        range_score = (mean_score - std_score, mean_score + std_score)\n",
    "        \n",
    "        # Store results for table display\n",
    "        results.append((name, mean_score, std_score, range_score[0], range_score[1]))\n",
    "        \n",
    "        # Display results\n",
    "        print(f\"{scoring} - All - Cross Validation  : {scores}\")\n",
    "        print(f\"{scoring} - Mean - Cross Validation : {mean_score:.4f}\")\n",
    "        print(f\"{scoring} - Std - Cross Validation  : {std_score:.4f}\")\n",
    "        print(f\"{scoring} - Range of Test-Set       : {range_score[0]:.4f} - {range_score[1]:.4f}\")\n",
    "        print(\"-\" * 50)\n",
    "        \n",
    "        # Update the best model if needed\n",
    "        if mean_score > best_score:\n",
    "            best_score = mean_score\n",
    "            best_pipeline = name\n",
    "\n",
    "    # Display the table with the mean scores\n",
    "    results_df = pd.DataFrame(results, columns=['Model', f'{scoring.capitalize()} Mean', f'{scoring.capitalize()} Std', 'Range Lower', 'Range Upper'])\n",
    "    print(\"\\nCross-Validation Results:\")\n",
    "    print(results_df)\n",
    "    \n",
    "    # Display best model\n",
    "    print(f\"\\nBest Model: {best_pipeline}\")\n",
    "    print(f\"Best {scoring.capitalize()} Score: {best_score:.4f}\")\n",
    "    \n",
    "    return results_df\n",
    "        \n"
   ]
  },
  {
   "cell_type": "code",
   "execution_count": 51,
   "metadata": {},
   "outputs": [
    {
     "name": "stdout",
     "output_type": "stream",
     "text": [
      "Analisis: Logistic Regression\n",
      "recall - All - Cross Validation  : [0.97884841 0.97058824 0.97882353 0.96823529 0.96941176]\n",
      "recall - Mean - Cross Validation : 0.9732\n",
      "recall - Std - Cross Validation  : 0.0047\n",
      "recall - Range of Test-Set       : 0.9685 - 0.9779\n",
      "--------------------------------------------------\n",
      "Analisis: Decision Tree\n",
      "recall - All - Cross Validation  : [0.87426557 0.88352941 0.89647059 0.85529412 0.86      ]\n",
      "recall - Mean - Cross Validation : 0.8739\n",
      "recall - Std - Cross Validation  : 0.0151\n",
      "recall - Range of Test-Set       : 0.8588 - 0.8890\n",
      "--------------------------------------------------\n",
      "Analisis: Random Forest\n",
      "recall - All - Cross Validation  : [0.92361927 0.91764706 0.92941176 0.89058824 0.91411765]\n",
      "recall - Mean - Cross Validation : 0.9151\n",
      "recall - Std - Cross Validation  : 0.0133\n",
      "recall - Range of Test-Set       : 0.9018 - 0.9284\n",
      "--------------------------------------------------\n",
      "Analisis: KNN\n",
      "recall - All - Cross Validation  : [0.94594595 0.92705882 0.94823529 0.92235294 0.94117647]\n",
      "recall - Mean - Cross Validation : 0.9370\n",
      "recall - Std - Cross Validation  : 0.0104\n",
      "recall - Range of Test-Set       : 0.9266 - 0.9473\n",
      "--------------------------------------------------\n",
      "Analisis: GaussianNB\n",
      "recall - All - Cross Validation  : [0.91186839 0.89647059 0.91529412 0.89529412 0.89176471]\n",
      "recall - Mean - Cross Validation : 0.9021\n",
      "recall - Std - Cross Validation  : 0.0095\n",
      "recall - Range of Test-Set       : 0.8926 - 0.9117\n",
      "--------------------------------------------------\n",
      "Analisis: XGBoost\n",
      "recall - All - Cross Validation  : [0.93537015 0.93058824 0.95294118 0.92470588 0.93529412]\n",
      "recall - Mean - Cross Validation : 0.9358\n",
      "recall - Std - Cross Validation  : 0.0094\n",
      "recall - Range of Test-Set       : 0.9264 - 0.9452\n",
      "--------------------------------------------------\n",
      "Analisis: SVC\n",
      "recall - All - Cross Validation  : [0.99647474 1.         1.         0.99764706 1.        ]\n",
      "recall - Mean - Cross Validation : 0.9988\n",
      "recall - Std - Cross Validation  : 0.0015\n",
      "recall - Range of Test-Set       : 0.9973 - 1.0003\n",
      "--------------------------------------------------\n",
      "\n",
      "Cross-Validation Results:\n",
      "                 Model  Recall Mean  Recall Std  Range Lower  Range Upper\n",
      "0  Logistic Regression     0.973181    0.004676     0.968505     0.977858\n",
      "1        Decision Tree     0.873912    0.015111     0.858801     0.889023\n",
      "2        Random Forest     0.915077    0.013309     0.901768     0.928386\n",
      "3                  KNN     0.936954    0.010364     0.926590     0.947318\n",
      "4           GaussianNB     0.902138    0.009532     0.892606     0.911671\n",
      "5              XGBoost     0.935780    0.009429     0.926351     0.945209\n",
      "6                  SVC     0.998824    0.001487     0.997338     1.000311\n",
      "\n",
      "Best Model: SVC\n",
      "Best Recall Score: 0.9988\n"
     ]
    },
    {
     "data": {
      "text/html": [
       "<div>\n",
       "<style scoped>\n",
       "    .dataframe tbody tr th:only-of-type {\n",
       "        vertical-align: middle;\n",
       "    }\n",
       "\n",
       "    .dataframe tbody tr th {\n",
       "        vertical-align: top;\n",
       "    }\n",
       "\n",
       "    .dataframe thead th {\n",
       "        text-align: right;\n",
       "    }\n",
       "</style>\n",
       "<table border=\"1\" class=\"dataframe\">\n",
       "  <thead>\n",
       "    <tr style=\"text-align: right;\">\n",
       "      <th></th>\n",
       "      <th>Model</th>\n",
       "      <th>Recall Mean</th>\n",
       "      <th>Recall Std</th>\n",
       "      <th>Range Lower</th>\n",
       "      <th>Range Upper</th>\n",
       "    </tr>\n",
       "  </thead>\n",
       "  <tbody>\n",
       "    <tr>\n",
       "      <th>0</th>\n",
       "      <td>Logistic Regression</td>\n",
       "      <td>0.973181</td>\n",
       "      <td>0.004676</td>\n",
       "      <td>0.968505</td>\n",
       "      <td>0.977858</td>\n",
       "    </tr>\n",
       "    <tr>\n",
       "      <th>1</th>\n",
       "      <td>Decision Tree</td>\n",
       "      <td>0.873912</td>\n",
       "      <td>0.015111</td>\n",
       "      <td>0.858801</td>\n",
       "      <td>0.889023</td>\n",
       "    </tr>\n",
       "    <tr>\n",
       "      <th>2</th>\n",
       "      <td>Random Forest</td>\n",
       "      <td>0.915077</td>\n",
       "      <td>0.013309</td>\n",
       "      <td>0.901768</td>\n",
       "      <td>0.928386</td>\n",
       "    </tr>\n",
       "    <tr>\n",
       "      <th>3</th>\n",
       "      <td>KNN</td>\n",
       "      <td>0.936954</td>\n",
       "      <td>0.010364</td>\n",
       "      <td>0.926590</td>\n",
       "      <td>0.947318</td>\n",
       "    </tr>\n",
       "    <tr>\n",
       "      <th>4</th>\n",
       "      <td>GaussianNB</td>\n",
       "      <td>0.902138</td>\n",
       "      <td>0.009532</td>\n",
       "      <td>0.892606</td>\n",
       "      <td>0.911671</td>\n",
       "    </tr>\n",
       "    <tr>\n",
       "      <th>5</th>\n",
       "      <td>XGBoost</td>\n",
       "      <td>0.935780</td>\n",
       "      <td>0.009429</td>\n",
       "      <td>0.926351</td>\n",
       "      <td>0.945209</td>\n",
       "    </tr>\n",
       "    <tr>\n",
       "      <th>6</th>\n",
       "      <td>SVC</td>\n",
       "      <td>0.998824</td>\n",
       "      <td>0.001487</td>\n",
       "      <td>0.997338</td>\n",
       "      <td>1.000311</td>\n",
       "    </tr>\n",
       "  </tbody>\n",
       "</table>\n",
       "</div>"
      ],
      "text/plain": [
       "                 Model  Recall Mean  Recall Std  Range Lower  Range Upper\n",
       "0  Logistic Regression     0.973181    0.004676     0.968505     0.977858\n",
       "1        Decision Tree     0.873912    0.015111     0.858801     0.889023\n",
       "2        Random Forest     0.915077    0.013309     0.901768     0.928386\n",
       "3                  KNN     0.936954    0.010364     0.926590     0.947318\n",
       "4           GaussianNB     0.902138    0.009532     0.892606     0.911671\n",
       "5              XGBoost     0.935780    0.009429     0.926351     0.945209\n",
       "6                  SVC     0.998824    0.001487     0.997338     1.000311"
      ]
     },
     "execution_count": 51,
     "metadata": {},
     "output_type": "execute_result"
    }
   ],
   "source": [
    "skfold = StratifiedKFold(n_splits=5)\n",
    "\n",
    "evaluate_cross_validation(pipelines, X_train, y_train, cv=skfold, scoring=\"recall\")"
   ]
  },
  {
   "cell_type": "markdown",
   "metadata": {},
   "source": [
    "Dari Proses Cross Validation, diambil model dengan rata - rata skor tertinggi, yaitu SVC dengan hasil Mean Cross Validation recall 0.9988\n",
    "\n",
    "Dari ketiga proses analisis ini, yang diutamakan adalah hasil analisis **classification report** karena:\n",
    "- Dari semua analisis, classification report mempertimbangkan keseimbangan data, dan juga menunjukkan nilai precision yang tidak hanya keseluruhan tetapi juga untuk setiap kelas. Dari kedua pertimbangan ini ditemukan Logistic Regression terbaik\n",
    "- Meskipun nilai mean cross validation paling tinggi pada model SVC yang bernilai 0.99, Logistic Regression memiliki nilai kedua tertinggi yaitu 0.97, hanya ada 2% perbedaan. Pemilihan model Logistic Regression masih valid.\n",
    "\n",
    "Jadi, model yang dipilih adalah Logistic Regression. Berikut tampilan model Logistic Regression dan evaluasinya"
   ]
  },
  {
   "cell_type": "markdown",
   "metadata": {},
   "source": [
    "### Model Evaluation before tuning"
   ]
  },
  {
   "cell_type": "code",
   "execution_count": 52,
   "metadata": {},
   "outputs": [
    {
     "data": {
      "text/html": [
       "<style>#sk-container-id-1 {\n",
       "  /* Definition of color scheme common for light and dark mode */\n",
       "  --sklearn-color-text: black;\n",
       "  --sklearn-color-line: gray;\n",
       "  /* Definition of color scheme for unfitted estimators */\n",
       "  --sklearn-color-unfitted-level-0: #fff5e6;\n",
       "  --sklearn-color-unfitted-level-1: #f6e4d2;\n",
       "  --sklearn-color-unfitted-level-2: #ffe0b3;\n",
       "  --sklearn-color-unfitted-level-3: chocolate;\n",
       "  /* Definition of color scheme for fitted estimators */\n",
       "  --sklearn-color-fitted-level-0: #f0f8ff;\n",
       "  --sklearn-color-fitted-level-1: #d4ebff;\n",
       "  --sklearn-color-fitted-level-2: #b3dbfd;\n",
       "  --sklearn-color-fitted-level-3: cornflowerblue;\n",
       "\n",
       "  /* Specific color for light theme */\n",
       "  --sklearn-color-text-on-default-background: var(--sg-text-color, var(--theme-code-foreground, var(--jp-content-font-color1, black)));\n",
       "  --sklearn-color-background: var(--sg-background-color, var(--theme-background, var(--jp-layout-color0, white)));\n",
       "  --sklearn-color-border-box: var(--sg-text-color, var(--theme-code-foreground, var(--jp-content-font-color1, black)));\n",
       "  --sklearn-color-icon: #696969;\n",
       "\n",
       "  @media (prefers-color-scheme: dark) {\n",
       "    /* Redefinition of color scheme for dark theme */\n",
       "    --sklearn-color-text-on-default-background: var(--sg-text-color, var(--theme-code-foreground, var(--jp-content-font-color1, white)));\n",
       "    --sklearn-color-background: var(--sg-background-color, var(--theme-background, var(--jp-layout-color0, #111)));\n",
       "    --sklearn-color-border-box: var(--sg-text-color, var(--theme-code-foreground, var(--jp-content-font-color1, white)));\n",
       "    --sklearn-color-icon: #878787;\n",
       "  }\n",
       "}\n",
       "\n",
       "#sk-container-id-1 {\n",
       "  color: var(--sklearn-color-text);\n",
       "}\n",
       "\n",
       "#sk-container-id-1 pre {\n",
       "  padding: 0;\n",
       "}\n",
       "\n",
       "#sk-container-id-1 input.sk-hidden--visually {\n",
       "  border: 0;\n",
       "  clip: rect(1px 1px 1px 1px);\n",
       "  clip: rect(1px, 1px, 1px, 1px);\n",
       "  height: 1px;\n",
       "  margin: -1px;\n",
       "  overflow: hidden;\n",
       "  padding: 0;\n",
       "  position: absolute;\n",
       "  width: 1px;\n",
       "}\n",
       "\n",
       "#sk-container-id-1 div.sk-dashed-wrapped {\n",
       "  border: 1px dashed var(--sklearn-color-line);\n",
       "  margin: 0 0.4em 0.5em 0.4em;\n",
       "  box-sizing: border-box;\n",
       "  padding-bottom: 0.4em;\n",
       "  background-color: var(--sklearn-color-background);\n",
       "}\n",
       "\n",
       "#sk-container-id-1 div.sk-container {\n",
       "  /* jupyter's `normalize.less` sets `[hidden] { display: none; }`\n",
       "     but bootstrap.min.css set `[hidden] { display: none !important; }`\n",
       "     so we also need the `!important` here to be able to override the\n",
       "     default hidden behavior on the sphinx rendered scikit-learn.org.\n",
       "     See: https://github.com/scikit-learn/scikit-learn/issues/21755 */\n",
       "  display: inline-block !important;\n",
       "  position: relative;\n",
       "}\n",
       "\n",
       "#sk-container-id-1 div.sk-text-repr-fallback {\n",
       "  display: none;\n",
       "}\n",
       "\n",
       "div.sk-parallel-item,\n",
       "div.sk-serial,\n",
       "div.sk-item {\n",
       "  /* draw centered vertical line to link estimators */\n",
       "  background-image: linear-gradient(var(--sklearn-color-text-on-default-background), var(--sklearn-color-text-on-default-background));\n",
       "  background-size: 2px 100%;\n",
       "  background-repeat: no-repeat;\n",
       "  background-position: center center;\n",
       "}\n",
       "\n",
       "/* Parallel-specific style estimator block */\n",
       "\n",
       "#sk-container-id-1 div.sk-parallel-item::after {\n",
       "  content: \"\";\n",
       "  width: 100%;\n",
       "  border-bottom: 2px solid var(--sklearn-color-text-on-default-background);\n",
       "  flex-grow: 1;\n",
       "}\n",
       "\n",
       "#sk-container-id-1 div.sk-parallel {\n",
       "  display: flex;\n",
       "  align-items: stretch;\n",
       "  justify-content: center;\n",
       "  background-color: var(--sklearn-color-background);\n",
       "  position: relative;\n",
       "}\n",
       "\n",
       "#sk-container-id-1 div.sk-parallel-item {\n",
       "  display: flex;\n",
       "  flex-direction: column;\n",
       "}\n",
       "\n",
       "#sk-container-id-1 div.sk-parallel-item:first-child::after {\n",
       "  align-self: flex-end;\n",
       "  width: 50%;\n",
       "}\n",
       "\n",
       "#sk-container-id-1 div.sk-parallel-item:last-child::after {\n",
       "  align-self: flex-start;\n",
       "  width: 50%;\n",
       "}\n",
       "\n",
       "#sk-container-id-1 div.sk-parallel-item:only-child::after {\n",
       "  width: 0;\n",
       "}\n",
       "\n",
       "/* Serial-specific style estimator block */\n",
       "\n",
       "#sk-container-id-1 div.sk-serial {\n",
       "  display: flex;\n",
       "  flex-direction: column;\n",
       "  align-items: center;\n",
       "  background-color: var(--sklearn-color-background);\n",
       "  padding-right: 1em;\n",
       "  padding-left: 1em;\n",
       "}\n",
       "\n",
       "\n",
       "/* Toggleable style: style used for estimator/Pipeline/ColumnTransformer box that is\n",
       "clickable and can be expanded/collapsed.\n",
       "- Pipeline and ColumnTransformer use this feature and define the default style\n",
       "- Estimators will overwrite some part of the style using the `sk-estimator` class\n",
       "*/\n",
       "\n",
       "/* Pipeline and ColumnTransformer style (default) */\n",
       "\n",
       "#sk-container-id-1 div.sk-toggleable {\n",
       "  /* Default theme specific background. It is overwritten whether we have a\n",
       "  specific estimator or a Pipeline/ColumnTransformer */\n",
       "  background-color: var(--sklearn-color-background);\n",
       "}\n",
       "\n",
       "/* Toggleable label */\n",
       "#sk-container-id-1 label.sk-toggleable__label {\n",
       "  cursor: pointer;\n",
       "  display: block;\n",
       "  width: 100%;\n",
       "  margin-bottom: 0;\n",
       "  padding: 0.5em;\n",
       "  box-sizing: border-box;\n",
       "  text-align: center;\n",
       "}\n",
       "\n",
       "#sk-container-id-1 label.sk-toggleable__label-arrow:before {\n",
       "  /* Arrow on the left of the label */\n",
       "  content: \"▸\";\n",
       "  float: left;\n",
       "  margin-right: 0.25em;\n",
       "  color: var(--sklearn-color-icon);\n",
       "}\n",
       "\n",
       "#sk-container-id-1 label.sk-toggleable__label-arrow:hover:before {\n",
       "  color: var(--sklearn-color-text);\n",
       "}\n",
       "\n",
       "/* Toggleable content - dropdown */\n",
       "\n",
       "#sk-container-id-1 div.sk-toggleable__content {\n",
       "  max-height: 0;\n",
       "  max-width: 0;\n",
       "  overflow: hidden;\n",
       "  text-align: left;\n",
       "  /* unfitted */\n",
       "  background-color: var(--sklearn-color-unfitted-level-0);\n",
       "}\n",
       "\n",
       "#sk-container-id-1 div.sk-toggleable__content.fitted {\n",
       "  /* fitted */\n",
       "  background-color: var(--sklearn-color-fitted-level-0);\n",
       "}\n",
       "\n",
       "#sk-container-id-1 div.sk-toggleable__content pre {\n",
       "  margin: 0.2em;\n",
       "  border-radius: 0.25em;\n",
       "  color: var(--sklearn-color-text);\n",
       "  /* unfitted */\n",
       "  background-color: var(--sklearn-color-unfitted-level-0);\n",
       "}\n",
       "\n",
       "#sk-container-id-1 div.sk-toggleable__content.fitted pre {\n",
       "  /* unfitted */\n",
       "  background-color: var(--sklearn-color-fitted-level-0);\n",
       "}\n",
       "\n",
       "#sk-container-id-1 input.sk-toggleable__control:checked~div.sk-toggleable__content {\n",
       "  /* Expand drop-down */\n",
       "  max-height: 200px;\n",
       "  max-width: 100%;\n",
       "  overflow: auto;\n",
       "}\n",
       "\n",
       "#sk-container-id-1 input.sk-toggleable__control:checked~label.sk-toggleable__label-arrow:before {\n",
       "  content: \"▾\";\n",
       "}\n",
       "\n",
       "/* Pipeline/ColumnTransformer-specific style */\n",
       "\n",
       "#sk-container-id-1 div.sk-label input.sk-toggleable__control:checked~label.sk-toggleable__label {\n",
       "  color: var(--sklearn-color-text);\n",
       "  background-color: var(--sklearn-color-unfitted-level-2);\n",
       "}\n",
       "\n",
       "#sk-container-id-1 div.sk-label.fitted input.sk-toggleable__control:checked~label.sk-toggleable__label {\n",
       "  background-color: var(--sklearn-color-fitted-level-2);\n",
       "}\n",
       "\n",
       "/* Estimator-specific style */\n",
       "\n",
       "/* Colorize estimator box */\n",
       "#sk-container-id-1 div.sk-estimator input.sk-toggleable__control:checked~label.sk-toggleable__label {\n",
       "  /* unfitted */\n",
       "  background-color: var(--sklearn-color-unfitted-level-2);\n",
       "}\n",
       "\n",
       "#sk-container-id-1 div.sk-estimator.fitted input.sk-toggleable__control:checked~label.sk-toggleable__label {\n",
       "  /* fitted */\n",
       "  background-color: var(--sklearn-color-fitted-level-2);\n",
       "}\n",
       "\n",
       "#sk-container-id-1 div.sk-label label.sk-toggleable__label,\n",
       "#sk-container-id-1 div.sk-label label {\n",
       "  /* The background is the default theme color */\n",
       "  color: var(--sklearn-color-text-on-default-background);\n",
       "}\n",
       "\n",
       "/* On hover, darken the color of the background */\n",
       "#sk-container-id-1 div.sk-label:hover label.sk-toggleable__label {\n",
       "  color: var(--sklearn-color-text);\n",
       "  background-color: var(--sklearn-color-unfitted-level-2);\n",
       "}\n",
       "\n",
       "/* Label box, darken color on hover, fitted */\n",
       "#sk-container-id-1 div.sk-label.fitted:hover label.sk-toggleable__label.fitted {\n",
       "  color: var(--sklearn-color-text);\n",
       "  background-color: var(--sklearn-color-fitted-level-2);\n",
       "}\n",
       "\n",
       "/* Estimator label */\n",
       "\n",
       "#sk-container-id-1 div.sk-label label {\n",
       "  font-family: monospace;\n",
       "  font-weight: bold;\n",
       "  display: inline-block;\n",
       "  line-height: 1.2em;\n",
       "}\n",
       "\n",
       "#sk-container-id-1 div.sk-label-container {\n",
       "  text-align: center;\n",
       "}\n",
       "\n",
       "/* Estimator-specific */\n",
       "#sk-container-id-1 div.sk-estimator {\n",
       "  font-family: monospace;\n",
       "  border: 1px dotted var(--sklearn-color-border-box);\n",
       "  border-radius: 0.25em;\n",
       "  box-sizing: border-box;\n",
       "  margin-bottom: 0.5em;\n",
       "  /* unfitted */\n",
       "  background-color: var(--sklearn-color-unfitted-level-0);\n",
       "}\n",
       "\n",
       "#sk-container-id-1 div.sk-estimator.fitted {\n",
       "  /* fitted */\n",
       "  background-color: var(--sklearn-color-fitted-level-0);\n",
       "}\n",
       "\n",
       "/* on hover */\n",
       "#sk-container-id-1 div.sk-estimator:hover {\n",
       "  /* unfitted */\n",
       "  background-color: var(--sklearn-color-unfitted-level-2);\n",
       "}\n",
       "\n",
       "#sk-container-id-1 div.sk-estimator.fitted:hover {\n",
       "  /* fitted */\n",
       "  background-color: var(--sklearn-color-fitted-level-2);\n",
       "}\n",
       "\n",
       "/* Specification for estimator info (e.g. \"i\" and \"?\") */\n",
       "\n",
       "/* Common style for \"i\" and \"?\" */\n",
       "\n",
       ".sk-estimator-doc-link,\n",
       "a:link.sk-estimator-doc-link,\n",
       "a:visited.sk-estimator-doc-link {\n",
       "  float: right;\n",
       "  font-size: smaller;\n",
       "  line-height: 1em;\n",
       "  font-family: monospace;\n",
       "  background-color: var(--sklearn-color-background);\n",
       "  border-radius: 1em;\n",
       "  height: 1em;\n",
       "  width: 1em;\n",
       "  text-decoration: none !important;\n",
       "  margin-left: 1ex;\n",
       "  /* unfitted */\n",
       "  border: var(--sklearn-color-unfitted-level-1) 1pt solid;\n",
       "  color: var(--sklearn-color-unfitted-level-1);\n",
       "}\n",
       "\n",
       ".sk-estimator-doc-link.fitted,\n",
       "a:link.sk-estimator-doc-link.fitted,\n",
       "a:visited.sk-estimator-doc-link.fitted {\n",
       "  /* fitted */\n",
       "  border: var(--sklearn-color-fitted-level-1) 1pt solid;\n",
       "  color: var(--sklearn-color-fitted-level-1);\n",
       "}\n",
       "\n",
       "/* On hover */\n",
       "div.sk-estimator:hover .sk-estimator-doc-link:hover,\n",
       ".sk-estimator-doc-link:hover,\n",
       "div.sk-label-container:hover .sk-estimator-doc-link:hover,\n",
       ".sk-estimator-doc-link:hover {\n",
       "  /* unfitted */\n",
       "  background-color: var(--sklearn-color-unfitted-level-3);\n",
       "  color: var(--sklearn-color-background);\n",
       "  text-decoration: none;\n",
       "}\n",
       "\n",
       "div.sk-estimator.fitted:hover .sk-estimator-doc-link.fitted:hover,\n",
       ".sk-estimator-doc-link.fitted:hover,\n",
       "div.sk-label-container:hover .sk-estimator-doc-link.fitted:hover,\n",
       ".sk-estimator-doc-link.fitted:hover {\n",
       "  /* fitted */\n",
       "  background-color: var(--sklearn-color-fitted-level-3);\n",
       "  color: var(--sklearn-color-background);\n",
       "  text-decoration: none;\n",
       "}\n",
       "\n",
       "/* Span, style for the box shown on hovering the info icon */\n",
       ".sk-estimator-doc-link span {\n",
       "  display: none;\n",
       "  z-index: 9999;\n",
       "  position: relative;\n",
       "  font-weight: normal;\n",
       "  right: .2ex;\n",
       "  padding: .5ex;\n",
       "  margin: .5ex;\n",
       "  width: min-content;\n",
       "  min-width: 20ex;\n",
       "  max-width: 50ex;\n",
       "  color: var(--sklearn-color-text);\n",
       "  box-shadow: 2pt 2pt 4pt #999;\n",
       "  /* unfitted */\n",
       "  background: var(--sklearn-color-unfitted-level-0);\n",
       "  border: .5pt solid var(--sklearn-color-unfitted-level-3);\n",
       "}\n",
       "\n",
       ".sk-estimator-doc-link.fitted span {\n",
       "  /* fitted */\n",
       "  background: var(--sklearn-color-fitted-level-0);\n",
       "  border: var(--sklearn-color-fitted-level-3);\n",
       "}\n",
       "\n",
       ".sk-estimator-doc-link:hover span {\n",
       "  display: block;\n",
       "}\n",
       "\n",
       "/* \"?\"-specific style due to the `<a>` HTML tag */\n",
       "\n",
       "#sk-container-id-1 a.estimator_doc_link {\n",
       "  float: right;\n",
       "  font-size: 1rem;\n",
       "  line-height: 1em;\n",
       "  font-family: monospace;\n",
       "  background-color: var(--sklearn-color-background);\n",
       "  border-radius: 1rem;\n",
       "  height: 1rem;\n",
       "  width: 1rem;\n",
       "  text-decoration: none;\n",
       "  /* unfitted */\n",
       "  color: var(--sklearn-color-unfitted-level-1);\n",
       "  border: var(--sklearn-color-unfitted-level-1) 1pt solid;\n",
       "}\n",
       "\n",
       "#sk-container-id-1 a.estimator_doc_link.fitted {\n",
       "  /* fitted */\n",
       "  border: var(--sklearn-color-fitted-level-1) 1pt solid;\n",
       "  color: var(--sklearn-color-fitted-level-1);\n",
       "}\n",
       "\n",
       "/* On hover */\n",
       "#sk-container-id-1 a.estimator_doc_link:hover {\n",
       "  /* unfitted */\n",
       "  background-color: var(--sklearn-color-unfitted-level-3);\n",
       "  color: var(--sklearn-color-background);\n",
       "  text-decoration: none;\n",
       "}\n",
       "\n",
       "#sk-container-id-1 a.estimator_doc_link.fitted:hover {\n",
       "  /* fitted */\n",
       "  background-color: var(--sklearn-color-fitted-level-3);\n",
       "}\n",
       "</style><div id=\"sk-container-id-1\" class=\"sk-top-container\"><div class=\"sk-text-repr-fallback\"><pre>Pipeline(steps=[(&#x27;transformer&#x27;,\n",
       "                 ColumnTransformer(remainder=&#x27;passthrough&#x27;,\n",
       "                                   transformers=[(&#x27;race_processing&#x27;,\n",
       "                                                  Pipeline(steps=[(&#x27;imputer&#x27;,\n",
       "                                                                   SimpleImputer(fill_value=&#x27;International &#x27;\n",
       "                                                                                            &#x27;Student&#x27;,\n",
       "                                                                                 strategy=&#x27;constant&#x27;)),\n",
       "                                                                  (&#x27;encoder&#x27;,\n",
       "                                                                   OneHotEncoder(handle_unknown=&#x27;ignore&#x27;,\n",
       "                                                                                 sparse_output=False))]),\n",
       "                                                  [&#x27;race&#x27;]),\n",
       "                                                 (&#x27;scaler&#x27;, StandardScaler(),\n",
       "                                                  [&#x27;gpa&#x27;, &#x27;gmat&#x27;]),\n",
       "                                                 (&#x27;encoder_gender&#x27;,\n",
       "                                                  OneHotEncoder(handle_unknown=&#x27;ignore&#x27;,\n",
       "                                                                sparse_output=False),\n",
       "                                                  [&#x27;gender&#x27;])])),\n",
       "                (&#x27;classifier&#x27;, LogisticRegression(max_iter=1000000))])</pre><b>In a Jupyter environment, please rerun this cell to show the HTML representation or trust the notebook. <br />On GitHub, the HTML representation is unable to render, please try loading this page with nbviewer.org.</b></div><div class=\"sk-container\" hidden><div class=\"sk-item sk-dashed-wrapped\"><div class=\"sk-label-container\"><div class=\"sk-label fitted sk-toggleable\"><input class=\"sk-toggleable__control sk-hidden--visually\" id=\"sk-estimator-id-1\" type=\"checkbox\" ><label for=\"sk-estimator-id-1\" class=\"sk-toggleable__label fitted sk-toggleable__label-arrow fitted\">&nbsp;&nbsp;Pipeline<a class=\"sk-estimator-doc-link fitted\" rel=\"noreferrer\" target=\"_blank\" href=\"https://scikit-learn.org/1.4/modules/generated/sklearn.pipeline.Pipeline.html\">?<span>Documentation for Pipeline</span></a><span class=\"sk-estimator-doc-link fitted\">i<span>Fitted</span></span></label><div class=\"sk-toggleable__content fitted\"><pre>Pipeline(steps=[(&#x27;transformer&#x27;,\n",
       "                 ColumnTransformer(remainder=&#x27;passthrough&#x27;,\n",
       "                                   transformers=[(&#x27;race_processing&#x27;,\n",
       "                                                  Pipeline(steps=[(&#x27;imputer&#x27;,\n",
       "                                                                   SimpleImputer(fill_value=&#x27;International &#x27;\n",
       "                                                                                            &#x27;Student&#x27;,\n",
       "                                                                                 strategy=&#x27;constant&#x27;)),\n",
       "                                                                  (&#x27;encoder&#x27;,\n",
       "                                                                   OneHotEncoder(handle_unknown=&#x27;ignore&#x27;,\n",
       "                                                                                 sparse_output=False))]),\n",
       "                                                  [&#x27;race&#x27;]),\n",
       "                                                 (&#x27;scaler&#x27;, StandardScaler(),\n",
       "                                                  [&#x27;gpa&#x27;, &#x27;gmat&#x27;]),\n",
       "                                                 (&#x27;encoder_gender&#x27;,\n",
       "                                                  OneHotEncoder(handle_unknown=&#x27;ignore&#x27;,\n",
       "                                                                sparse_output=False),\n",
       "                                                  [&#x27;gender&#x27;])])),\n",
       "                (&#x27;classifier&#x27;, LogisticRegression(max_iter=1000000))])</pre></div> </div></div><div class=\"sk-serial\"><div class=\"sk-item sk-dashed-wrapped\"><div class=\"sk-label-container\"><div class=\"sk-label fitted sk-toggleable\"><input class=\"sk-toggleable__control sk-hidden--visually\" id=\"sk-estimator-id-2\" type=\"checkbox\" ><label for=\"sk-estimator-id-2\" class=\"sk-toggleable__label fitted sk-toggleable__label-arrow fitted\">&nbsp;transformer: ColumnTransformer<a class=\"sk-estimator-doc-link fitted\" rel=\"noreferrer\" target=\"_blank\" href=\"https://scikit-learn.org/1.4/modules/generated/sklearn.compose.ColumnTransformer.html\">?<span>Documentation for transformer: ColumnTransformer</span></a></label><div class=\"sk-toggleable__content fitted\"><pre>ColumnTransformer(remainder=&#x27;passthrough&#x27;,\n",
       "                  transformers=[(&#x27;race_processing&#x27;,\n",
       "                                 Pipeline(steps=[(&#x27;imputer&#x27;,\n",
       "                                                  SimpleImputer(fill_value=&#x27;International &#x27;\n",
       "                                                                           &#x27;Student&#x27;,\n",
       "                                                                strategy=&#x27;constant&#x27;)),\n",
       "                                                 (&#x27;encoder&#x27;,\n",
       "                                                  OneHotEncoder(handle_unknown=&#x27;ignore&#x27;,\n",
       "                                                                sparse_output=False))]),\n",
       "                                 [&#x27;race&#x27;]),\n",
       "                                (&#x27;scaler&#x27;, StandardScaler(), [&#x27;gpa&#x27;, &#x27;gmat&#x27;]),\n",
       "                                (&#x27;encoder_gender&#x27;,\n",
       "                                 OneHotEncoder(handle_unknown=&#x27;ignore&#x27;,\n",
       "                                               sparse_output=False),\n",
       "                                 [&#x27;gender&#x27;])])</pre></div> </div></div><div class=\"sk-parallel\"><div class=\"sk-parallel-item\"><div class=\"sk-item\"><div class=\"sk-label-container\"><div class=\"sk-label fitted sk-toggleable\"><input class=\"sk-toggleable__control sk-hidden--visually\" id=\"sk-estimator-id-3\" type=\"checkbox\" ><label for=\"sk-estimator-id-3\" class=\"sk-toggleable__label fitted sk-toggleable__label-arrow fitted\">race_processing</label><div class=\"sk-toggleable__content fitted\"><pre>[&#x27;race&#x27;]</pre></div> </div></div><div class=\"sk-serial\"><div class=\"sk-item\"><div class=\"sk-serial\"><div class=\"sk-item\"><div class=\"sk-estimator fitted sk-toggleable\"><input class=\"sk-toggleable__control sk-hidden--visually\" id=\"sk-estimator-id-4\" type=\"checkbox\" ><label for=\"sk-estimator-id-4\" class=\"sk-toggleable__label fitted sk-toggleable__label-arrow fitted\">&nbsp;SimpleImputer<a class=\"sk-estimator-doc-link fitted\" rel=\"noreferrer\" target=\"_blank\" href=\"https://scikit-learn.org/1.4/modules/generated/sklearn.impute.SimpleImputer.html\">?<span>Documentation for SimpleImputer</span></a></label><div class=\"sk-toggleable__content fitted\"><pre>SimpleImputer(fill_value=&#x27;International Student&#x27;, strategy=&#x27;constant&#x27;)</pre></div> </div></div><div class=\"sk-item\"><div class=\"sk-estimator fitted sk-toggleable\"><input class=\"sk-toggleable__control sk-hidden--visually\" id=\"sk-estimator-id-5\" type=\"checkbox\" ><label for=\"sk-estimator-id-5\" class=\"sk-toggleable__label fitted sk-toggleable__label-arrow fitted\">&nbsp;OneHotEncoder<a class=\"sk-estimator-doc-link fitted\" rel=\"noreferrer\" target=\"_blank\" href=\"https://scikit-learn.org/1.4/modules/generated/sklearn.preprocessing.OneHotEncoder.html\">?<span>Documentation for OneHotEncoder</span></a></label><div class=\"sk-toggleable__content fitted\"><pre>OneHotEncoder(handle_unknown=&#x27;ignore&#x27;, sparse_output=False)</pre></div> </div></div></div></div></div></div></div><div class=\"sk-parallel-item\"><div class=\"sk-item\"><div class=\"sk-label-container\"><div class=\"sk-label fitted sk-toggleable\"><input class=\"sk-toggleable__control sk-hidden--visually\" id=\"sk-estimator-id-6\" type=\"checkbox\" ><label for=\"sk-estimator-id-6\" class=\"sk-toggleable__label fitted sk-toggleable__label-arrow fitted\">scaler</label><div class=\"sk-toggleable__content fitted\"><pre>[&#x27;gpa&#x27;, &#x27;gmat&#x27;]</pre></div> </div></div><div class=\"sk-serial\"><div class=\"sk-item\"><div class=\"sk-estimator fitted sk-toggleable\"><input class=\"sk-toggleable__control sk-hidden--visually\" id=\"sk-estimator-id-7\" type=\"checkbox\" ><label for=\"sk-estimator-id-7\" class=\"sk-toggleable__label fitted sk-toggleable__label-arrow fitted\">&nbsp;StandardScaler<a class=\"sk-estimator-doc-link fitted\" rel=\"noreferrer\" target=\"_blank\" href=\"https://scikit-learn.org/1.4/modules/generated/sklearn.preprocessing.StandardScaler.html\">?<span>Documentation for StandardScaler</span></a></label><div class=\"sk-toggleable__content fitted\"><pre>StandardScaler()</pre></div> </div></div></div></div></div><div class=\"sk-parallel-item\"><div class=\"sk-item\"><div class=\"sk-label-container\"><div class=\"sk-label fitted sk-toggleable\"><input class=\"sk-toggleable__control sk-hidden--visually\" id=\"sk-estimator-id-8\" type=\"checkbox\" ><label for=\"sk-estimator-id-8\" class=\"sk-toggleable__label fitted sk-toggleable__label-arrow fitted\">encoder_gender</label><div class=\"sk-toggleable__content fitted\"><pre>[&#x27;gender&#x27;]</pre></div> </div></div><div class=\"sk-serial\"><div class=\"sk-item\"><div class=\"sk-estimator fitted sk-toggleable\"><input class=\"sk-toggleable__control sk-hidden--visually\" id=\"sk-estimator-id-9\" type=\"checkbox\" ><label for=\"sk-estimator-id-9\" class=\"sk-toggleable__label fitted sk-toggleable__label-arrow fitted\">&nbsp;OneHotEncoder<a class=\"sk-estimator-doc-link fitted\" rel=\"noreferrer\" target=\"_blank\" href=\"https://scikit-learn.org/1.4/modules/generated/sklearn.preprocessing.OneHotEncoder.html\">?<span>Documentation for OneHotEncoder</span></a></label><div class=\"sk-toggleable__content fitted\"><pre>OneHotEncoder(handle_unknown=&#x27;ignore&#x27;, sparse_output=False)</pre></div> </div></div></div></div></div><div class=\"sk-parallel-item\"><div class=\"sk-item\"><div class=\"sk-label-container\"><div class=\"sk-label fitted sk-toggleable\"><input class=\"sk-toggleable__control sk-hidden--visually\" id=\"sk-estimator-id-10\" type=\"checkbox\" ><label for=\"sk-estimator-id-10\" class=\"sk-toggleable__label fitted sk-toggleable__label-arrow fitted\">remainder</label><div class=\"sk-toggleable__content fitted\"><pre>[]</pre></div> </div></div><div class=\"sk-serial\"><div class=\"sk-item\"><div class=\"sk-estimator fitted sk-toggleable\"><input class=\"sk-toggleable__control sk-hidden--visually\" id=\"sk-estimator-id-11\" type=\"checkbox\" ><label for=\"sk-estimator-id-11\" class=\"sk-toggleable__label fitted sk-toggleable__label-arrow fitted\">passthrough</label><div class=\"sk-toggleable__content fitted\"><pre>passthrough</pre></div> </div></div></div></div></div></div></div><div class=\"sk-item\"><div class=\"sk-estimator fitted sk-toggleable\"><input class=\"sk-toggleable__control sk-hidden--visually\" id=\"sk-estimator-id-12\" type=\"checkbox\" ><label for=\"sk-estimator-id-12\" class=\"sk-toggleable__label fitted sk-toggleable__label-arrow fitted\">&nbsp;LogisticRegression<a class=\"sk-estimator-doc-link fitted\" rel=\"noreferrer\" target=\"_blank\" href=\"https://scikit-learn.org/1.4/modules/generated/sklearn.linear_model.LogisticRegression.html\">?<span>Documentation for LogisticRegression</span></a></label><div class=\"sk-toggleable__content fitted\"><pre>LogisticRegression(max_iter=1000000)</pre></div> </div></div></div></div></div></div>"
      ],
      "text/plain": [
       "Pipeline(steps=[('transformer',\n",
       "                 ColumnTransformer(remainder='passthrough',\n",
       "                                   transformers=[('race_processing',\n",
       "                                                  Pipeline(steps=[('imputer',\n",
       "                                                                   SimpleImputer(fill_value='International '\n",
       "                                                                                            'Student',\n",
       "                                                                                 strategy='constant')),\n",
       "                                                                  ('encoder',\n",
       "                                                                   OneHotEncoder(handle_unknown='ignore',\n",
       "                                                                                 sparse_output=False))]),\n",
       "                                                  ['race']),\n",
       "                                                 ('scaler', StandardScaler(),\n",
       "                                                  ['gpa', 'gmat']),\n",
       "                                                 ('encoder_gender',\n",
       "                                                  OneHotEncoder(handle_unknown='ignore',\n",
       "                                                                sparse_output=False),\n",
       "                                                  ['gender'])])),\n",
       "                ('classifier', LogisticRegression(max_iter=1000000))])"
      ]
     },
     "execution_count": 52,
     "metadata": {},
     "output_type": "execute_result"
    }
   ],
   "source": [
    "pipe_logreg.fit(X_train, y_train)"
   ]
  },
  {
   "cell_type": "code",
   "execution_count": 53,
   "metadata": {},
   "outputs": [
    {
     "name": "stdout",
     "output_type": "stream",
     "text": [
      "AUC Score - Train Set  :  0.5522851575030475\n",
      "AUC Score - Test Set   :  0.5589645254074784\n"
     ]
    }
   ],
   "source": [
    "# Get predictions for both training and test data\n",
    "y_pred_train = pipe_logreg.predict(X_train)\n",
    "y_pred_test = pipe_logreg.predict(X_test)\n",
    "\n",
    "# Print auc score\n",
    "print('AUC Score - Train Set  : ', roc_auc_score(y_train, y_pred_train))\n",
    "print('AUC Score - Test Set   : ', roc_auc_score(y_test, y_pred_test))"
   ]
  },
  {
   "cell_type": "markdown",
   "metadata": {},
   "source": [
    "Nilai AUC rendah menunjukkan bahwa model kurang baik dalam membedakan antara dua kelas (0 dan 1). Hal ini bisa jadi karena distribusi data yang tidak seimbang, sehingga model lebih bias terhadap kelas mayoritas."
   ]
  },
  {
   "cell_type": "code",
   "execution_count": 54,
   "metadata": {},
   "outputs": [
    {
     "name": "stdout",
     "output_type": "stream",
     "text": [
      "recall Score - Train Set :  0.9738884968242767\n",
      "recall Score - Test Set :  0.975071907957814\n"
     ]
    }
   ],
   "source": [
    "# Print recall score\n",
    "print('recall Score - Train Set : ', recall_score(y_train, y_pred_train))\n",
    "print('recall Score - Test Set : ', recall_score(y_test, y_pred_test))"
   ]
  },
  {
   "cell_type": "markdown",
   "metadata": {},
   "source": [
    "Skor recall sangat tinggi, dan nilai relatif sama"
   ]
  },
  {
   "cell_type": "code",
   "execution_count": 55,
   "metadata": {},
   "outputs": [
    {
     "name": "stdout",
     "output_type": "stream",
     "text": [
      "              precision    recall  f1-score   support\n",
      "\n",
      "           0       0.52      0.14      0.22       196\n",
      "           1       0.86      0.98      0.91      1043\n",
      "\n",
      "    accuracy                           0.84      1239\n",
      "   macro avg       0.69      0.56      0.57      1239\n",
      "weighted avg       0.80      0.84      0.80      1239\n",
      "\n"
     ]
    }
   ],
   "source": [
    "print(classification_report(y_test, pipe_logreg.predict(X_test)))"
   ]
  },
  {
   "cell_type": "markdown",
   "metadata": {},
   "source": [
    "Recall tinggi menunjukkan bahwa model cenderung memprioritaskan deteksi sebanyak mungkin dari kelas Deny or Waitlist (kelas 1). Namun, Recall untuk kelas Admit, 14.29%, menunjukkan bahwa model gagal mendeteksi sebagian besar kasus dari kelas Admit (kelas 0)."
   ]
  },
  {
   "cell_type": "code",
   "execution_count": 56,
   "metadata": {},
   "outputs": [
    {
     "data": {
      "image/png": "[encoded data removed]",
      "text/plain": [
       "<Figure size 1200x500 with 4 Axes>"
      ]
     },
     "metadata": {},
     "output_type": "display_data"
    }
   ],
   "source": [
    "# Create subplots\n",
    "fig, axes = plt.subplots(1, 2, figsize=(12, 5))\n",
    "\n",
    "# Plot confusion matrix for training data\n",
    "train_matrix = ConfusionMatrixDisplay.from_estimator(pipe_logreg, X_train, y_train, cmap='PuBu', ax=axes[0])\n",
    "train_matrix.ax_.set_title('Confusion Matrix - Training Data')\n",
    "\n",
    "# Plot confusion matrix for test data\n",
    "test_matrix = ConfusionMatrixDisplay.from_estimator(pipe_logreg, X_test, y_test, cmap='PuBu', ax=axes[1])\n",
    "test_matrix.ax_.set_title('Confusion Matrix - Test Data')\n",
    "\n",
    "plt.tight_layout()\n",
    "plt.show()"
   ]
  },
  {
   "cell_type": "markdown",
   "metadata": {},
   "source": [
    "Dapat terlihat model bisa memprediksi kelas Deny or Wailist dengan akurat, hal ini karena mayoritas data adalah kelas ini merupakan mayoritas. Meskipun jumlah data kelas Admit memang sedikit sehingga yang diprediksi benar juga juga jauh lebih sedikit, terlihat bahwa ada banyak sekali kesalahan. Model memprioritaskan nilai Recall, sehingga ingin meminimalisir jumlah calon mahasiswa layak yang diprediksi sebagai Deny. Model ini masih kurang bagus karena mayoritas mahasiswa yang layak untuk diterima diprediksikan sebagai Deny."
   ]
  },
  {
   "cell_type": "markdown",
   "metadata": {},
   "source": [
    "## B. Model Optimization"
   ]
  },
  {
   "cell_type": "markdown",
   "metadata": {},
   "source": [
    "Performa model ingin ditingkatkan dengan menentukkan hyperparameter yang tepat. Penentuan ini bisa dengan menggunakan GridSearchCV"
   ]
  },
  {
   "cell_type": "code",
   "execution_count": 57,
   "metadata": {},
   "outputs": [
    {
     "name": "stdout",
     "output_type": "stream",
     "text": [
      "Fitting 5 folds for each of 72 candidates, totalling 360 fits\n",
      "Best hyperparameters for Logistic Regression: {'classifier__C': 1, 'classifier__class_weight': None, 'classifier__max_iter': 100, 'classifier__penalty': 'l1', 'classifier__solver': 'liblinear'}\n",
      "Best recall for Logistic Regression: 0.9734167415497339\n"
     ]
    }
   ],
   "source": [
    "# Set up the parameter\n",
    "\n",
    "param_grid_lr = {\n",
    "    'classifier__C': [1, 10, 100],\n",
    "    'classifier__penalty': ['l2', 'l1'],\n",
    "    'classifier__solver': ['liblinear', 'saga'],\n",
    "    'classifier__max_iter': [100, 200, 500],\n",
    "    'classifier__class_weight': [None, 'balanced']\n",
    "}\n",
    "\n",
    "# Set up the GridSearchCV object for Random Forest\n",
    "grid_search_lr = GridSearchCV(pipe_logreg,\n",
    "                                    param_grid=param_grid_lr,\n",
    "                                    scoring='recall',\n",
    "                                    cv=skfold,\n",
    "                                    verbose=2,\n",
    "                                    n_jobs=-1)\n",
    "\n",
    "# Fit GridSearchCV for Logistic Regression\n",
    "grid_search_lr.fit(X_train, y_train)\n",
    "\n",
    "# Best hyperparameters for logreg\n",
    "print('Best hyperparameters for Logistic Regression:', grid_search_lr.best_params_)\n",
    "\n",
    "# Best recall for Logistic Regression\n",
    "print('Best recall for Logistic Regression:', grid_search_lr.best_score_)\n",
    "\n",
    "# Save best Logistic Regression model to a variable\n",
    "best_lr_model = grid_search_lr.best_estimator_"
   ]
  },
  {
   "cell_type": "markdown",
   "metadata": {},
   "source": [
    "### Model evaluation after tuning"
   ]
  },
  {
   "cell_type": "markdown",
   "metadata": {},
   "source": [
    "Evaluasi model yang telah di hyperparameter tuning"
   ]
  },
  {
   "cell_type": "code",
   "execution_count": 58,
   "metadata": {},
   "outputs": [
    {
     "name": "stdout",
     "output_type": "stream",
     "text": [
      "AUC Score - Train Set  :  0.5515749302303202\n",
      "AUC Score - Test Set   :  0.5589645254074784\n"
     ]
    }
   ],
   "source": [
    "# Get predictions for training and testing set using the hyperparameter tuned model\n",
    "y_pred_train_tuned = best_lr_model.predict(X_train)\n",
    "y_pred_test_tuned = best_lr_model.predict(X_test)\n",
    "# Print auc score\n",
    "print('AUC Score - Train Set  : ', roc_auc_score(y_train, y_pred_train_tuned))\n",
    "print('AUC Score - Test Set   : ', roc_auc_score(y_test, y_pred_test_tuned))"
   ]
  },
  {
   "cell_type": "code",
   "execution_count": 59,
   "metadata": {},
   "outputs": [
    {
     "name": "stdout",
     "output_type": "stream",
     "text": [
      "Recall Score - Train Set  :  0.9738884968242767\n",
      "Recall Score - Test Set   :  0.975071907957814\n"
     ]
    }
   ],
   "source": [
    "# Print recall score\n",
    "print('Recall Score - Train Set  : ', recall_score(y_train, y_pred_train_tuned))\n",
    "print('Recall Score - Test Set   : ', recall_score(y_test, y_pred_test_tuned))"
   ]
  },
  {
   "cell_type": "code",
   "execution_count": 60,
   "metadata": {},
   "outputs": [
    {
     "name": "stdout",
     "output_type": "stream",
     "text": [
      "              precision    recall  f1-score   support\n",
      "\n",
      "           0       0.52      0.14      0.22       196\n",
      "           1       0.86      0.98      0.91      1043\n",
      "\n",
      "    accuracy                           0.84      1239\n",
      "   macro avg       0.69      0.56      0.57      1239\n",
      "weighted avg       0.80      0.84      0.80      1239\n",
      "\n"
     ]
    }
   ],
   "source": [
    "print(classification_report(y_test, best_lr_model.predict(X_test)))"
   ]
  },
  {
   "cell_type": "code",
   "execution_count": 61,
   "metadata": {},
   "outputs": [
    {
     "data": {
      "image/png": "[encoded data removed]",
      "text/plain": [
       "<Figure size 1200x500 with 4 Axes>"
      ]
     },
     "metadata": {},
     "output_type": "display_data"
    }
   ],
   "source": [
    "# Create subplots\n",
    "fig, axes = plt.subplots(1, 2, figsize=(12, 5))\n",
    "\n",
    "# Plot confusion matrix for training data\n",
    "train_matrix = ConfusionMatrixDisplay.from_estimator(best_lr_model, X_train, y_train, cmap='PuBu', ax=axes[0])\n",
    "train_matrix.ax_.set_title('Confusion Matrix - Training Data')\n",
    "\n",
    "# Plot confusion matrix for test data\n",
    "test_matrix = ConfusionMatrixDisplay.from_estimator(best_lr_model, X_test, y_test, cmap='PuBu', ax=axes[1])\n",
    "test_matrix.ax_.set_title('Confusion Matrix - Test Data')\n",
    "\n",
    "plt.tight_layout()\n",
    "plt.show()"
   ]
  },
  {
   "cell_type": "markdown",
   "metadata": {},
   "source": [
    "Perbandingan antara model sebelum dan sesudah Tuning"
   ]
  },
  {
   "cell_type": "code",
   "execution_count": 62,
   "metadata": {},
   "outputs": [],
   "source": [
    "def evaluate_model(y_train, y_pred_train, y_test, y_pred_test):\n",
    "    auc_train = roc_auc_score(y_train, y_pred_train)\n",
    "    auc_test = roc_auc_score(y_test, y_pred_test)\n",
    "    recall_train = recall_score(y_train, y_pred_train)\n",
    "    recall_test = recall_score(y_test, y_pred_test)\n",
    "    \n",
    "    report = classification_report(y_test, y_pred_test, output_dict=True)\n",
    "    recall_per_class = {f\"Recall Class {k}\": v[\"recall\"] for k, v in report.items() if k not in [\"accuracy\", \"macro avg\", \"weighted avg\"]}\n",
    "    \n",
    "    return {\n",
    "        \"AUC Score (Train)\": auc_train,\n",
    "        \"AUC Score (Test)\": auc_test,\n",
    "        \"Recall Score (Train)\": recall_train,\n",
    "        \"Recall Score (Test)\": recall_test,\n",
    "        **recall_per_class\n",
    "    }"
   ]
  },
  {
   "cell_type": "code",
   "execution_count": 63,
   "metadata": {},
   "outputs": [
    {
     "data": {
      "text/html": [
       "<div>\n",
       "<style scoped>\n",
       "    .dataframe tbody tr th:only-of-type {\n",
       "        vertical-align: middle;\n",
       "    }\n",
       "\n",
       "    .dataframe tbody tr th {\n",
       "        vertical-align: top;\n",
       "    }\n",
       "\n",
       "    .dataframe thead th {\n",
       "        text-align: right;\n",
       "    }\n",
       "</style>\n",
       "<table border=\"1\" class=\"dataframe\">\n",
       "  <thead>\n",
       "    <tr style=\"text-align: right;\">\n",
       "      <th></th>\n",
       "      <th>Model</th>\n",
       "      <th>Model Tuned</th>\n",
       "    </tr>\n",
       "  </thead>\n",
       "  <tbody>\n",
       "    <tr>\n",
       "      <th>AUC Score (Train)</th>\n",
       "      <td>0.552285</td>\n",
       "      <td>0.551575</td>\n",
       "    </tr>\n",
       "    <tr>\n",
       "      <th>AUC Score (Test)</th>\n",
       "      <td>0.558965</td>\n",
       "      <td>0.558965</td>\n",
       "    </tr>\n",
       "    <tr>\n",
       "      <th>Recall Score (Train)</th>\n",
       "      <td>0.973888</td>\n",
       "      <td>0.973888</td>\n",
       "    </tr>\n",
       "    <tr>\n",
       "      <th>Recall Score (Test)</th>\n",
       "      <td>0.975072</td>\n",
       "      <td>0.975072</td>\n",
       "    </tr>\n",
       "    <tr>\n",
       "      <th>Recall Class 0</th>\n",
       "      <td>0.142857</td>\n",
       "      <td>0.142857</td>\n",
       "    </tr>\n",
       "    <tr>\n",
       "      <th>Recall Class 1</th>\n",
       "      <td>0.975072</td>\n",
       "      <td>0.975072</td>\n",
       "    </tr>\n",
       "  </tbody>\n",
       "</table>\n",
       "</div>"
      ],
      "text/plain": [
       "                         Model  Model Tuned\n",
       "AUC Score (Train)     0.552285     0.551575\n",
       "AUC Score (Test)      0.558965     0.558965\n",
       "Recall Score (Train)  0.973888     0.973888\n",
       "Recall Score (Test)   0.975072     0.975072\n",
       "Recall Class 0        0.142857     0.142857\n",
       "Recall Class 1        0.975072     0.975072"
      ]
     },
     "execution_count": 63,
     "metadata": {},
     "output_type": "execute_result"
    }
   ],
   "source": [
    "# Evaluasi model sebelum tuned\n",
    "eval_model = evaluate_model(y_train, y_pred_train, y_test, y_pred_test)\n",
    "# Evaluasi model setelah tuned\n",
    "eval_model_tuned = evaluate_model(y_train, y_pred_train_tuned, y_test, y_pred_test_tuned)\n",
    "# Membuat tabel perbandingan\n",
    "comparison_table = pd.DataFrame([eval_model, eval_model_tuned], index=[\"Model\", \"Model Tuned\"]).T\n",
    "\n",
    "# Cetak tabel perbandingan\n",
    "comparison_table"
   ]
  },
  {
   "cell_type": "markdown",
   "metadata": {},
   "source": [
    "Sama persis dengan sebelum tuned:\n",
    "- Nilai AUC rendah, model belum bisa membedakan antar kelas dengan baik\n",
    "- Model bias ke kelas mayoritas yaitu Deny or Waitlist, prediksi jauh lebih baik untuk kelas ini saja\n",
    "- Nilai False Positive untuk kelas Admit jauh lebih tinggi dari True Positive\n",
    "\n",
    "Karena hyperparameter tuning tidak bisa mengatasi masalah ini, maka akan dilakukan Data Balancing oversampling menggunakan metode SMOTE, memberi bobot yang lebih besar untuk kelas yang berjumlah kecil"
   ]
  },
  {
   "cell_type": "markdown",
   "metadata": {},
   "source": [
    "### Data Balancing"
   ]
  },
  {
   "cell_type": "markdown",
   "metadata": {},
   "source": [
    "Karena hasil sebelumnya belum memuaskan, dilakukan data balancing untuk meningkatkan nilai recall di kelas Admit dan menyeimbangkan recall untuk kedua kelas, dan dilanjutkan dengan hyperparameter tuning dari data yang sudah seimbang"
   ]
  },
  {
   "cell_type": "code",
   "execution_count": 64,
   "metadata": {},
   "outputs": [
    {
     "name": "stdout",
     "output_type": "stream",
     "text": [
      "Fitting 5 folds for each of 72 candidates, totalling 360 fits\n",
      "Best hyperparameters for Logistic Regression with SMOTE: {'classifier__C': 100, 'classifier__class_weight': None, 'classifier__max_iter': 100, 'classifier__penalty': 'l2', 'classifier__solver': 'liblinear'}\n",
      "Best recall for Logistic Regression with SMOTE: 0.7368314833501514\n"
     ]
    }
   ],
   "source": [
    "# inisialisasi SMOTENC untuk melakukan Oversampling\n",
    "smote = SMOTENC(categorical_features=[0, 2], random_state=42)\n",
    "pipe_lr_smote = imPipeline(steps=[\n",
    "    ('transformer', transformer),\n",
    "    ('smote', smote),\n",
    "    ('classifier',\n",
    "    LogisticRegression(solver='liblinear', max_iter=1000000))])\n",
    "\n",
    "# Set up GridSearchCV for Logistic Regression with SMOTE\n",
    "grid_search_lr_smote = GridSearchCV(pipe_lr_smote,\n",
    "                                    param_grid=param_grid_lr,\n",
    "                                    scoring='recall_weighted',  # Focus on recall\n",
    "                                    cv=skfold,\n",
    "                                    verbose=2,\n",
    "                                    n_jobs=-1)\n",
    "\n",
    "# Fit GridSearchCV for Logistic Regression with SMOTE\n",
    "grid_search_lr_smote.fit(X_train, y_train)\n",
    "\n",
    "# Best hyperparameters for Logistic Regression with SMOTE\n",
    "print('Best hyperparameters for Logistic Regression with SMOTE:', grid_search_lr_smote.best_params_)\n",
    "\n",
    "# Best recall for Logistic Regression with SMOTE\n",
    "print('Best recall for Logistic Regression with SMOTE:', grid_search_lr_smote.best_score_)\n",
    "\n",
    "# Save best Logistic Regression model to a variable\n",
    "best_lr_model_smote = grid_search_lr_smote.best_estimator_"
   ]
  },
  {
   "cell_type": "markdown",
   "metadata": {},
   "source": [
    "Nilai recall 0.73, terdapat penurunan nilai recall dari data sebelum balancing yang bernilai 0.97"
   ]
  },
  {
   "cell_type": "markdown",
   "metadata": {},
   "source": [
    "# **VIII. Model Evaluation**"
   ]
  },
  {
   "cell_type": "markdown",
   "metadata": {},
   "source": [
    "Periksa nilai AUC Score dan Recall"
   ]
  },
  {
   "cell_type": "code",
   "execution_count": 65,
   "metadata": {},
   "outputs": [
    {
     "name": "stdout",
     "output_type": "stream",
     "text": [
      "AUC Score - Train Set  :  0.7433839096683134\n",
      "AUC Score - Test Set   :  0.7436481303930969\n"
     ]
    }
   ],
   "source": [
    "# Get predictions for training and testing set using the hyperparameter tuned model\n",
    "y_pred_train_balanced = best_lr_model_smote.predict(X_train)\n",
    "y_pred_test_balanced = best_lr_model_smote.predict(X_test)\n",
    "\n",
    "#auc score\n",
    "print('AUC Score - Train Set  : ', roc_auc_score(y_train, y_pred_train_balanced))\n",
    "print('AUC Score - Test Set   : ', roc_auc_score(y_test, y_pred_test_balanced))"
   ]
  },
  {
   "cell_type": "code",
   "execution_count": 66,
   "metadata": {},
   "outputs": [
    {
     "name": "stdout",
     "output_type": "stream",
     "text": [
      "Recall Score - Train Set  :  0.7367678193366267\n",
      "Recall Score - Test Set   :  0.7372962607861937\n"
     ]
    }
   ],
   "source": [
    "# Print recall score\n",
    "print('Recall Score - Train Set  : ', recall_score(y_train, y_pred_train_balanced))\n",
    "print('Recall Score - Test Set   : ', recall_score(y_test, y_pred_test_balanced))"
   ]
  },
  {
   "cell_type": "markdown",
   "metadata": {},
   "source": [
    "- Dari nilai AUC model bisa membedakan sekitar 74% dari data test dengan benar, model ini bisa dinilai cukup bagus\n",
    "\n",
    "- Nilai recall juga kurang lebih sama, model bisa mendeteksi 74% kelas Admit (True Positive) dengan benar"
   ]
  },
  {
   "cell_type": "code",
   "execution_count": 67,
   "metadata": {},
   "outputs": [
    {
     "data": {
      "text/html": [
       "<div>\n",
       "<style scoped>\n",
       "    .dataframe tbody tr th:only-of-type {\n",
       "        vertical-align: middle;\n",
       "    }\n",
       "\n",
       "    .dataframe tbody tr th {\n",
       "        vertical-align: top;\n",
       "    }\n",
       "\n",
       "    .dataframe thead th {\n",
       "        text-align: right;\n",
       "    }\n",
       "</style>\n",
       "<table border=\"1\" class=\"dataframe\">\n",
       "  <thead>\n",
       "    <tr style=\"text-align: right;\">\n",
       "      <th></th>\n",
       "      <th>Model Tuned</th>\n",
       "      <th>Model Balanced</th>\n",
       "    </tr>\n",
       "  </thead>\n",
       "  <tbody>\n",
       "    <tr>\n",
       "      <th>AUC Score (Train)</th>\n",
       "      <td>0.551575</td>\n",
       "      <td>0.743384</td>\n",
       "    </tr>\n",
       "    <tr>\n",
       "      <th>AUC Score (Test)</th>\n",
       "      <td>0.558965</td>\n",
       "      <td>0.743648</td>\n",
       "    </tr>\n",
       "    <tr>\n",
       "      <th>Recall Score (Train)</th>\n",
       "      <td>0.973888</td>\n",
       "      <td>0.736768</td>\n",
       "    </tr>\n",
       "    <tr>\n",
       "      <th>Recall Score (Test)</th>\n",
       "      <td>0.975072</td>\n",
       "      <td>0.737296</td>\n",
       "    </tr>\n",
       "    <tr>\n",
       "      <th>Recall Class 0</th>\n",
       "      <td>0.142857</td>\n",
       "      <td>0.750000</td>\n",
       "    </tr>\n",
       "    <tr>\n",
       "      <th>Recall Class 1</th>\n",
       "      <td>0.975072</td>\n",
       "      <td>0.737296</td>\n",
       "    </tr>\n",
       "  </tbody>\n",
       "</table>\n",
       "</div>"
      ],
      "text/plain": [
       "                      Model Tuned  Model Balanced\n",
       "AUC Score (Train)        0.551575        0.743384\n",
       "AUC Score (Test)         0.558965        0.743648\n",
       "Recall Score (Train)     0.973888        0.736768\n",
       "Recall Score (Test)      0.975072        0.737296\n",
       "Recall Class 0           0.142857        0.750000\n",
       "Recall Class 1           0.975072        0.737296"
      ]
     },
     "execution_count": 67,
     "metadata": {},
     "output_type": "execute_result"
    }
   ],
   "source": [
    "eval_model_balance = evaluate_model(y_train, y_pred_train_balanced, y_test, y_pred_test_balanced)\n",
    "\n",
    "comparison_table = pd.DataFrame([eval_model_tuned, eval_model_balance], index=[\"Model Tuned\", \"Model Balanced\"]).T\n",
    "comparison_table"
   ]
  },
  {
   "cell_type": "markdown",
   "metadata": {},
   "source": [
    "- Setelah balancing, AUC meningkat signifikan menjadi 0.74 pada dataset train dan test. Ini menunjukkan bahwa model menjadi lebih baik dalam membedakan antara kelas 0 dan kelas 1, tanpa bias terlalu besar pada satu kelas tertentu.\n",
    "\n",
    "- Terjadi penurunan pada Recall Score keseluruhan untuk data balanced, tetapi jarak antara Recall Train dan Test lebih dekat pada model balanced. Model balanced sedikit kurang overfit dari model Tuned\n",
    "\n",
    "- Recall menjadi lebih seimbang antara kelas 0 (Admit) dan kelas 1 (Deny or Waitlist). Recall Kelas 0 adalah 75%, Ini adalah peningkatan signifikan dibandingkan dengan model sebelumnya (14.29%). Model lebih baik mendeteksi data dari kelas 0. Recall Kelas adalah 74%, ada penurunan recall pada kelas 1 dibandingkan model tanpa balancing, namun ini wajar karena model sekarang mencoba untuk lebih seimbang dalam memprediksi kedua kelas.\n"
   ]
  },
  {
   "cell_type": "code",
   "execution_count": 68,
   "metadata": {},
   "outputs": [
    {
     "data": {
      "image/png": "[encoded data removed]",
      "text/plain": [
       "<Figure size 1200x500 with 4 Axes>"
      ]
     },
     "metadata": {},
     "output_type": "display_data"
    }
   ],
   "source": [
    "# Create subplots\n",
    "fig, axes = plt.subplots(1, 2, figsize=(12, 5))\n",
    "\n",
    "# Plot confusion matrix for training data\n",
    "train_matrix = ConfusionMatrixDisplay.from_estimator(best_lr_model_smote, X_train, y_train, cmap='PuBu', ax=axes[0])\n",
    "train_matrix.ax_.set_title('Confusion Matrix - Training Data')\n",
    "\n",
    "# Plot confusion matrix for test data\n",
    "test_matrix = ConfusionMatrixDisplay.from_estimator(best_lr_model_smote, X_test, y_test, cmap='PuBu', ax=axes[1])\n",
    "test_matrix.ax_.set_title('Confusion Matrix - Test Data')\n",
    "\n",
    "plt.tight_layout()\n",
    "plt.show()"
   ]
  },
  {
   "cell_type": "markdown",
   "metadata": {},
   "source": [
    "Model bisa memprediksi kedua kelas dengan baik. Walaupun ada beberapa kesalahan, mayoritas data bisa diprediksi dengan benar. Kebanyakan mahasiswa pada kelas Admit tidak terlewatkan dan diprediksi benar sebagai Admit, juga untuk Deny or Waitlist prediksinya sudah sesuai"
   ]
  },
  {
   "cell_type": "code",
   "execution_count": 71,
   "metadata": {},
   "outputs": [
    {
     "data": {
      "image/png": "[encoded data removed]",
      "text/plain": [
       "<Figure size 1200x500 with 4 Axes>"
      ]
     },
     "metadata": {},
     "output_type": "display_data"
    }
   ],
   "source": [
    "# Create subplots\n",
    "fig, axes = plt.subplots(1, 2, figsize=(12, 5))\n",
    "\n",
    "# Plot confusion matrix for training data\n",
    "train_matrix = ConfusionMatrixDisplay.from_estimator(best_lr_model, X_test, y_test, cmap='PuBu', ax=axes[0])\n",
    "train_matrix.ax_.set_title('Confusion Model - Tuned Only')\n",
    "\n",
    "# Plot confusion matrix for test data\n",
    "test_matrix = ConfusionMatrixDisplay.from_estimator(best_lr_model_smote, X_test, y_test, cmap='PuBu', ax=axes[1])\n",
    "test_matrix.ax_.set_title('Confusion Matrix - Model Balanced')\n",
    "\n",
    "plt.tight_layout()\n",
    "plt.show()"
   ]
  },
  {
   "cell_type": "markdown",
   "metadata": {},
   "source": [
    "Dibandingkan dengan model sebelum balancing, dapat terlihat bahwa prediksi True Positive jauh lebih baik meskipun ada beberapa kesalahan, mayoritas data kelas Admit bisa dideteksi dengan benar. Kelas Deny or Waitlist juga masih cukup bagus mayoritas pada True Negatif, akan tetapi dibandingkan dengan model sebelum balancing, False Negative atau kesalahannya menjadi lebih banyak, terjadi penurunan nilai Recall pada kelas ini."
   ]
  },
  {
   "cell_type": "markdown",
   "metadata": {},
   "source": [
    "Overall\n",
    "\n",
    "Kelebihan Model:\n",
    "- Nilai Recall dan AUC mendekati satu sama lain dan juga tidak bernilai rendah, menunjukkan bahwa model tidak overfitting dan juga tidak underfitting\n",
    "- Model lebih adil dalam memprediksi kedua kelas, terlihat dari nilai AUC yang meningkat dan Recall kelas 0 yang jauh lebih baik dibandingkan dengan hasil model lain.\n",
    "- Nilai AUC dan Recall yang seimbang pada train dan test menunjukkan model memiliki generalisasi yang baik.\n",
    "- Model bisa memprediksi True Positif atau kelas Admit yang jauh lebih baik dari model lain, menunjukkan bahwa model paling cocok dipakai untuk kasus ini\n",
    "\n",
    "Kekurangan Model:\n",
    "- Recall kelas 1 menurun dibandingkan model yang hanya dituned. Namun, ini trade-off yang wajar karena balancing bertujuan untuk meningkatkan performa model secara keseluruhan.\n",
    "\n",
    "Dari analisis ini dapat disimpulkan bahwa model telah memenuhi keperluan dari perhitungan metricnya:\n",
    "- Untuk AUC score: Model dapat membedakan kedua kelas dengan cukup baik\n",
    "- Untuk  Recall score: Model dapat memprediksi kelas Admit atau label True Positive dengan baik dan berhasil meminimalisir nilai False Positive"
   ]
  },
  {
   "cell_type": "markdown",
   "metadata": {},
   "source": [
    "# **IX. Model Saving**"
   ]
  },
  {
   "cell_type": "markdown",
   "metadata": {},
   "source": [
    "Menyimpan model yang sudah dibuat dalam file"
   ]
  },
  {
   "cell_type": "code",
   "execution_count": 70,
   "metadata": {},
   "outputs": [],
   "source": [
    "# Save the best model\n",
    "with open('best_lr_model_smote.pkl', 'wb') as model_file:\n",
    "  pickle.dump(best_lr_model_smote, model_file)"
   ]
  },
  {
   "cell_type": "markdown",
   "metadata": {},
   "source": [
    "# **X. Pengambilan Kesimpulan**"
   ]
  },
  {
   "cell_type": "markdown",
   "metadata": {},
   "source": [
    "## EDA\n",
    "\n",
    "Dari penjabaran Objective yang ingin dicapai:\n",
    "\n",
    "**1. Calon mahasiswa**\n",
    "- Calon mahasiswa dengan skor GMAT yang tinggi (di atas rata-rata 651) memiliki kemungkinan lebih besar untuk diterima. Skor GMAT terbukti menjadi faktor signifikan dalam menentukan status admission dibandingkan GPA.\n",
    "- GPA juga memainkan peran penting, meskipun pengaruhnya sedikit lebih kecil dibandingkan GMAT. Mayoritas calon mahasiswa memiliki GPA tinggi, menunjukkan kompetisi yang ketat.\n",
    "\n",
    "Hasil analisis EDA dapat membantu calon mahasiswa memahami pentingnya meningkatkan skor GMAT mereka, dan juga mempertahankan GPA yang tinggi, supaya dapat meningkatkan peluang diterima. Tahun pengalaman kerja dan industrinya tidak menjadi faktor utama, sehingga lebih baik fokus pada kualifikasi akademik dan persiapan ujian GMAT yang sebaiknya.\n",
    "\n",
    "\n",
    "**2. Tim Admission**\n",
    "\n",
    "Hasil analisis EDA menyajikan informasi bahwa:\n",
    "- Sebagian besar calon mahasiswa adalah laki-laki, menunjukkan bahwa ada potensi kesenjangan gender yang mungkin dapat menjadi perhatian dalam strategi perekrutan.\n",
    "- Meskipun pilihan jurusan relatif seimbang, pengalaman kerja dalam industri tertentu seperti Consulting menjadi yang paling banyak, diikuti oleh PE/VC dan Technology.\n",
    "- Ras calon mahasiswa menunjukkan distribusi yang cukup beragam, namun dengan dominasi pada ras Caucasian.\n",
    "- Industri tempat calon mahasiswa bekerja tidak memiliki hubungan signifikan dengan jurusan yang mereka pilih.\n",
    "\n",
    "Analisis ini membantu tim memahami celah dari proses seleksi sekarang, walaupun nilai GMAT dan GPA bisa jadi fokus utama, faktor lain seperti pengalaman kerja juga menjadi pengaruh terhadap penerimaan. Tingkatkan inklusivitas dengan  mempertimbangkan faktor-faktor non-akademik yang dapat memengaruhi keberhasilan calon mahasiswa diterima di program studi. Selain itu, distribusi gender dan ras memberikan wawasan untuk meningkatkan keberagaman di perekrutan universitas ini.\n",
    "\n",
    "\n",
    "## Model\n",
    "**Data Scientist/Analyst**\n",
    "\n",
    "Penggunaan data sintesis dapat menjadi latihan pembuatan model machine learning. Dari pembuatan model ini dapat mengasah kemampuan analisis, feature engineering, dan juga pembuatan model terutama untuk penggunaan Pipeline dan data balancing. Model yang dibuat melalui proses data balancing dan hyperparameter tuning, hasilnya:\n",
    "\n",
    "Kelebihan:\n",
    "- Skor AUC dan Recall yang bernilai tidak rendah dan hampir sama di data train dan test menunjukkan bahwa model bisa membedakan kelas dengan baik dan tidak mengalami overfitting atau underfitting yang signifikan.\n",
    "- Skor Recall per kelas juga menunjukkan hasil yang cukup baik untuk kelas Admit (0.75) dan kelas Deny or Waitlist (0.74), yang berarti model telah memenuhi keperluan untuk memprioritas nilai Recall. Mayoritas kelas Admit menghasilkan True Positive, dan nilai False Positive minim, atau mayoritas calon mahasiswa yang layak dapat dideteksi sebagai diterima\n",
    "\n",
    "Kekurangan:\n",
    "- AUC 0.74 menandakan bahwa model hanya memiliki kemampuan sedang saja dalam membedakan antara dua kelas. Ada potensi untuk meningkatkan pembedaan ini.\n",
    "- Meski cukup baik, recall sekitar 0.73–0.75 menunjukkan masih ada ruang untuk meningkatkan performa model, terutama pada kelas Deny or Waitlist.\n",
    "\n",
    "Improvement:\n",
    "- Seimbangkan data dengan data asli dan bukan sintesis seperti SMOTE saja, dengan begitu nilai AUC dan Recall bisa ditingkatkan\n",
    "- Percobaan menggunakan Class Weighting, dalam proses klasifikasi memberikan bobot yang lebih besar pada kelas minoritas.\n",
    "- Memperbaiki proses feature engineering, contohnya di feature selection, menghapus semua korelasi yang di bawah 0.5\n",
    "- Mencari model lain yang lebih kompleks untuk menangani data ini"
   ]
  },
  {
   "cell_type": "markdown",
   "metadata": {},
   "source": [
    "# Conceptual Problems\n",
    "\n",
    "## 1. Bagging\n",
    "Bagging dibuat untuk mengatasi masalah overfitting dan variance tinggi pada model machine learning, terutama pada algoritma yang terkenal sering terjadi masalah ini contohnya seperti Decision Tree karena sensitif terhadap varian data. Metode ini didasarkan pada gagasan bahwa menggabungkan prediksi dari beberapa model dapat meningkatkan akurasi dan stabilitas prediksi. Terdapat 3 langkah:\n",
    "- Membuat beberapa subset data training berukuran yang sama dengan mengambil sampel secara acak.\n",
    "- Membuat model pada setiap subset sampling yang telah dibuat\n",
    "- Semua prediksi digabungkan. Untuk regresi menggunakan rata - rata, untuk klasifikasi menggunakan voting mayoritas\n",
    "\n",
    "## 2. Perbedaan Random Forest dengan XGBoost\n",
    "-  Pendekatan: Random Forest menggunakan teknik bagging sedangkan XGBoost menggunakan teknik boosting\n",
    "\n",
    "-  Sifat: Random Forest bersifat paralel (pohon dibangun secara independen) sedangkan XGBoost bersifat serial (model dibangun satu per satu secara berurutan)\n",
    "\n",
    "- Overfitting: Random Forest lebih cocok untuk menghidari overfitting, sedangkan XGBoost perlu tuning lanjut untuk mencegahnya\n",
    "\n",
    "- Tujuan: Random Forest untuk mengurangi variance, sedangkan XGBoost untuk mengurangi bias dan variance, juga meningkatkan akurasi\n",
    "\n",
    "## 3. Crossvalidation\n",
    "\n",
    "Cross Validation adalah teknik evaluasi performa model machine learning dengan membagi dataset menjadi beberapa subset (folds) untuk proses training dan testing. Proses training dan testing ini dilakukan beberapa kali sesuai kebutuhan, hasil evaluasi dari setiap iterasi dirata-rata untuk memberikan metric performa model. Teknik ini dipakai untuk menghindari bias dalam evaluasi model (overfitting atau underfitting), mengukur kinerja model secara akurat pada data yang belum dilihat model, memastikan bahwa model diuji pada berbagai bagian dataset."
   ]
  }
 ],
 "metadata": {
  "kernelspec": {
   "display_name": "base",
   "language": "python",
   "name": "python3"
  },
  "language_info": {
   "codemirror_mode": {
    "name": "ipython",
    "version": 3
   },
   "file_extension": ".py",
   "mimetype": "text/x-python",
   "name": "python",
   "nbconvert_exporter": "python",
   "pygments_lexer": "ipython3",
   "version": "3.12.4"
  }
 },
 "nbformat": 4,
 "nbformat_minor": 2
}
